{
 "cells": [
  {
   "cell_type": "markdown",
   "metadata": {},
   "source": [
    "# Housing prices in Boston : linear regression with OpenTURNS\n",
    "\n",
    "In this document, we show how to create a linear regression model with OpenTURNS on the Boston dataset.\n",
    "\n",
    "This dataset contains information collected by various sources concerning housing in the area of Boston Mass in 1970. The sources are the U.S Census Service, FBI and other sources. The dataset contains 506 cases. \n",
    "\n",
    "There are 14 variables:\n",
    "* CRIM : per capita crime rate by town\n",
    "* ZN : proportion of residential land zoned for lots over 25,000 sq.ft. (high value restricts construction of small lot houses)\n",
    "* INDUS : proportion of non retail business acres per town (measures the impact of noise, heavy traffic and visual effects)\n",
    "* CHAS : Charles River dummy variable (1 if tract bounds river; 0 otherwise). Captures the amenities of a riverside location.\n",
    "* NOX : nitric oxides concentration (parts per 10 million) (measures air pollution)\n",
    "* RM : average number of rooms per dwelling (measures the spaciousness)\n",
    "* AGE : proportion of owner occupied units built prior to 1940 (related to structure quality)\n",
    "* DIS : weighted distances to five Boston employment centres\n",
    "* RAD : index of accessibility to radial highways\n",
    "* TAX : full value property tax rate per 10,000 US Dollars (measures the cost of public services)\n",
    "* PTRATIO : pupil teacher ratio by town (measures public sector benefits in each town)\n",
    "* B : $1000(Bk - 0.63)^2$ US Dollars where Bk is the proportion of blacks by town\n",
    "* LSTAT : percent lower status of the population (proportion of adults without some high school education and proportion of male workers classified as laborers)\n",
    "* MEDV : median value of owner occupied homes in 1,000 US Dollars\n",
    "\n",
    "The classical goal is to predict MEDV depending on the first 13 variables.\n",
    "\n",
    "## Reference\n",
    "\n",
    "* Regression Analysis with Python, Luca Massaron, Alberto Boschetti, Packt Publishing\n",
    "* Harrison, Jr., David, Rubinfeld, Daniel L. (1978/03).\"Hedonic housing prices and the demand for clean air.\" Journal of Environmental Economics and Management 5(1): 81-102. \n",
    "* Belsley, Kuh & Welsch, \"Regression diagnostics: Identifying Influential Data and Sources of Collinearity\", Wiley, 1980. 244-261.\n",
    "* Quinlan,R. (1993). Combining Instance-Based and Model-Based Learning. In Proceedings on the Tenth International Conference of Machine Learning, 236-243, University of Massachusetts, Amherst. Morgan Kaufmann."
   ]
  },
  {
   "cell_type": "code",
   "execution_count": 1,
   "metadata": {},
   "outputs": [],
   "source": [
    "import openturns as ot"
   ]
  },
  {
   "cell_type": "code",
   "execution_count": 2,
   "metadata": {},
   "outputs": [],
   "source": [
    "sample = ot.Sample_ImportFromCSVFile(\"Housing-prices-Boston.csv\")"
   ]
  },
  {
   "cell_type": "code",
   "execution_count": 3,
   "metadata": {},
   "outputs": [
    {
     "data": {
      "text/plain": [
       "14"
      ]
     },
     "execution_count": 3,
     "metadata": {},
     "output_type": "execute_result"
    }
   ],
   "source": [
    "dim = sample.getDimension()\n",
    "dim"
   ]
  },
  {
   "cell_type": "code",
   "execution_count": 4,
   "metadata": {},
   "outputs": [
    {
     "data": {
      "text/plain": [
       "506"
      ]
     },
     "execution_count": 4,
     "metadata": {},
     "output_type": "execute_result"
    }
   ],
   "source": [
    "n = sample.getSize()\n",
    "n"
   ]
  },
  {
   "cell_type": "code",
   "execution_count": 5,
   "metadata": {},
   "outputs": [
    {
     "data": {
      "text/html": [
       "<p>[CRIM,ZN,INDUS,CHAS,NOX,RM,AGE,DIS,RAD,TAX,PTRATIO,B,LSTAT,MEDV]#14</p>"
      ],
      "text/plain": [
       "[CRIM,ZN,INDUS,CHAS,NOX,RM,AGE,DIS,RAD,TAX,PTRATIO,B,LSTAT,MEDV]"
      ]
     },
     "execution_count": 5,
     "metadata": {},
     "output_type": "execute_result"
    }
   ],
   "source": [
    "sample.getDescription()"
   ]
  },
  {
   "cell_type": "markdown",
   "metadata": {},
   "source": [
    "Extract the inputs and the output (MEDV)."
   ]
  },
  {
   "cell_type": "code",
   "execution_count": 6,
   "metadata": {},
   "outputs": [
    {
     "data": {
      "text/html": [
       "<TABLE><TR><TD></TD><TH>CRIM</TH><TH>ZN</TH><TH>INDUS</TH><TH>CHAS</TH><TH>NOX</TH><TH>RM</TH><TH>AGE</TH><TH>DIS</TH><TH>RAD</TH><TH>TAX</TH><TH>PTRATIO</TH><TH>B</TH><TH>LSTAT</TH></TR>\n",
       "<TR><TD>0</TD><TD>0.00632</TD><TD>18.0</TD><TD>2.31</TD><TD>0.0</TD><TD>0.538</TD><TD>6.575</TD><TD>65.2</TD><TD>4.09</TD><TD>1.0</TD><TD>296.0</TD><TD>15.3</TD><TD>396.9</TD><TD>4.98</TD></TR>\n",
       "<TR><TD>1</TD><TD>0.02731</TD><TD>0.0</TD><TD>7.07</TD><TD>0.0</TD><TD>0.469</TD><TD>6.421</TD><TD>78.9</TD><TD>4.9671</TD><TD>2.0</TD><TD>242.0</TD><TD>17.8</TD><TD>396.9</TD><TD>9.14</TD></TR>\n",
       "<TR><TD>2</TD><TD>0.02729</TD><TD>0.0</TD><TD>7.07</TD><TD>0.0</TD><TD>0.469</TD><TD>7.185</TD><TD>61.1</TD><TD>4.9671</TD><TD>2.0</TD><TD>242.0</TD><TD>17.8</TD><TD>392.83</TD><TD>4.03</TD></TR>\n",
       "<TR><TD>3</TD><TD>0.03237</TD><TD>0.0</TD><TD>2.18</TD><TD>0.0</TD><TD>0.458</TD><TD>6.998</TD><TD>45.8</TD><TD>6.0622</TD><TD>3.0</TD><TD>222.0</TD><TD>18.7</TD><TD>394.63</TD><TD>2.94</TD></TR>\n",
       "<TR><TD>4</TD><TD>0.06905</TD><TD>0.0</TD><TD>2.18</TD><TD>0.0</TD><TD>0.458</TD><TD>7.147</TD><TD>54.2</TD><TD>6.0622</TD><TD>3.0</TD><TD>222.0</TD><TD>18.7</TD><TD>396.9</TD><TD>5.33</TD></TR>\n",
       "</TABLE>"
      ],
      "text/plain": [
       "class=Sample name=Unnamed implementation=class=SampleImplementation name=Unnamed size=5 dimension=13 description=[CRIM,ZN,INDUS,CHAS,NOX,RM,AGE,DIS,RAD,TAX,PTRATIO,B,LSTAT] data=[[0.00632,18,2.31,0,0.538,6.575,65.2,4.09,1,296,15.3,396.9,4.98],[0.02731,0,7.07,0,0.469,6.421,78.9,4.9671,2,242,17.8,396.9,9.14],[0.02729,0,7.07,0,0.469,7.185,61.1,4.9671,2,242,17.8,392.83,4.03],[0.03237,0,2.18,0,0.458,6.998,45.8,6.0622,3,222,18.7,394.63,2.94],[0.06905,0,2.18,0,0.458,7.147,54.2,6.0622,3,222,18.7,396.9,5.33]]"
      ]
     },
     "execution_count": 6,
     "metadata": {},
     "output_type": "execute_result"
    }
   ],
   "source": [
    "X = sample[:,0:dim-1]\n",
    "X[0:5,:]"
   ]
  },
  {
   "cell_type": "code",
   "execution_count": 7,
   "metadata": {},
   "outputs": [
    {
     "data": {
      "text/html": [
       "<TABLE><TR><TD></TD><TH>MEDV</TH></TR>\n",
       "<TR><TD>0</TD><TD>24.0</TD></TR>\n",
       "<TR><TD>1</TD><TD>21.6</TD></TR>\n",
       "<TR><TD>2</TD><TD>34.7</TD></TR>\n",
       "<TR><TD>3</TD><TD>33.4</TD></TR>\n",
       "<TR><TD>4</TD><TD>36.2</TD></TR>\n",
       "<TR><TD>5</TD><TD>28.7</TD></TR>\n",
       "<TR><TD>6</TD><TD>22.9</TD></TR>\n",
       "<TR><TD>7</TD><TD>27.1</TD></TR>\n",
       "<TR><TD>8</TD><TD>16.5</TD></TR>\n",
       "<TR><TD>9</TD><TD>18.9</TD></TR>\n",
       "</TABLE>"
      ],
      "text/plain": [
       "class=Sample name=Unnamed implementation=class=SampleImplementation name=Unnamed size=10 dimension=1 description=[MEDV] data=[[24],[21.6],[34.7],[33.4],[36.2],[28.7],[22.9],[27.1],[16.5],[18.9]]"
      ]
     },
     "execution_count": 7,
     "metadata": {},
     "output_type": "execute_result"
    }
   ],
   "source": [
    "Y = sample[:,dim-1]\n",
    "Y[0:10]"
   ]
  },
  {
   "cell_type": "markdown",
   "metadata": {},
   "source": [
    "The `LinearLeastSquares` create a linear model based on least squares. A constant is automatically included into the model (i.e. a column of ones is automatically added to the design matrix X). "
   ]
  },
  {
   "cell_type": "code",
   "execution_count": 8,
   "metadata": {},
   "outputs": [],
   "source": [
    "myLeastSquares = ot.LinearLeastSquares(X, Y)"
   ]
  },
  {
   "cell_type": "markdown",
   "metadata": {},
   "source": [
    "This solves the least squares equation. The solver uses the `solveLinearSystem` of the Matrix class, so that the resolution is based on LAPACK’s DGELSY. This implies that an orthogonal decomposition of the design matrix is done. "
   ]
  },
  {
   "cell_type": "code",
   "execution_count": 9,
   "metadata": {},
   "outputs": [],
   "source": [
    "myLeastSquares.run()"
   ]
  },
  {
   "cell_type": "code",
   "execution_count": 10,
   "metadata": {},
   "outputs": [
    {
     "data": {
      "text/html": [
       "<p>[36.4911]</p>"
      ],
      "text/plain": [
       "class=Point name=Unnamed dimension=1 values=[36.4911]"
      ]
     },
     "execution_count": 10,
     "metadata": {},
     "output_type": "execute_result"
    }
   ],
   "source": [
    "myLeastSquares.getConstant()"
   ]
  },
  {
   "cell_type": "code",
   "execution_count": 11,
   "metadata": {},
   "outputs": [
    {
     "data": {
      "text/html": [
       "<p>13x1<br>\n",
       "[[  -0.107171    ]<br>\n",
       " [   0.0463952   ]<br>\n",
       " [   0.0208602   ]<br>\n",
       " [   2.68856     ]<br>\n",
       " [ -17.7958      ]<br>\n",
       " [   3.80475     ]<br>\n",
       " [   0.000751062 ]<br>\n",
       " [  -1.47576     ]<br>\n",
       " [   0.305655    ]<br>\n",
       " [  -0.0123293   ]<br>\n",
       " [  -0.953464    ]<br>\n",
       " [   0.00939251  ]<br>\n",
       " [  -0.525467    ]]</p>"
      ],
      "text/plain": [
       "class=Matrix implementation=class=MatrixImplementation name=Unnamed rows=13 columns=1 values=[-0.107171,0.0463952,0.0208602,2.68856,-17.7958,3.80475,0.000751062,-1.47576,0.305655,-0.0123293,-0.953464,0.00939251,-0.525467]"
      ]
     },
     "execution_count": 11,
     "metadata": {},
     "output_type": "execute_result"
    }
   ],
   "source": [
    "myLeastSquares.getLinear()"
   ]
  },
  {
   "cell_type": "code",
   "execution_count": 12,
   "metadata": {},
   "outputs": [],
   "source": [
    "linearmodel = myLeastSquares.getResponseSurface()"
   ]
  },
  {
   "cell_type": "code",
   "execution_count": 13,
   "metadata": {},
   "outputs": [],
   "source": [
    "ypredicted = linearmodel(X)"
   ]
  },
  {
   "cell_type": "markdown",
   "metadata": {},
   "source": [
    "In order to validate the linear model, we use the `MetaModelValidation` class."
   ]
  },
  {
   "cell_type": "code",
   "execution_count": 14,
   "metadata": {},
   "outputs": [],
   "source": [
    "val = ot.MetaModelValidation(X, Y, linearmodel)"
   ]
  },
  {
   "cell_type": "markdown",
   "metadata": {},
   "source": [
    "For a linear regression model, the predictivity factor is the R2."
   ]
  },
  {
   "cell_type": "code",
   "execution_count": 15,
   "metadata": {},
   "outputs": [
    {
     "data": {
      "text/plain": [
       "0.7406077428649431"
      ]
     },
     "execution_count": 15,
     "metadata": {},
     "output_type": "execute_result"
    }
   ],
   "source": [
    "val.computePredictivityFactor()"
   ]
  },
  {
   "cell_type": "code",
   "execution_count": 16,
   "metadata": {},
   "outputs": [
    {
     "data": {
      "image/png": "[encoded data removed]",
      "text/plain": [
       "class=Graph name=Metamodel validation implementation=class=GraphImplementation name=Metamodel validation title=Metamodel validation xTitle=model yTitle=metamodel axes=ON grid=ON legendposition=bottomright legendFontSize=1 drawables=[class=Drawable name=Unnamed implementation=class=Curve name=Unnamed derived from class=DrawableImplementation name=Unnamed legend=Model data=class=Sample name=Unnamed implementation=class=SampleImplementation name=Unnamed size=506 dimension=2 data=[[24,24],[21.6,21.6],[34.7,34.7],...,[23.9,23.9],[22,22],[11.9,11.9]] color=blue fillStyle=solid lineStyle=solid pointStyle=none lineWidth=1,class=Drawable name=Unnamed implementation=class=Cloud name=Unnamed derived from class=DrawableImplementation name=Unnamed legend=MetaModel data=class=Sample name=Unnamed implementation=class=SampleImplementation name=Unnamed size=506 dimension=2 data=[[24,30.0082],[21.6,25.0299],[34.7,30.5702],...,[23.9,27.6293],[22,26.1298],[11.9,22.3487]] color=red fillStyle=solid lineStyle=solid pointStyle=plus lineWidth=1]"
      ]
     },
     "execution_count": 16,
     "metadata": {},
     "output_type": "execute_result"
    }
   ],
   "source": [
    "val.drawValidation()"
   ]
  }
 ],
 "metadata": {
  "kernelspec": {
   "display_name": "Python 3",
   "language": "python",
   "name": "python3"
  },
  "language_info": {
   "codemirror_mode": {
    "name": "ipython",
    "version": 3
   },
   "file_extension": ".py",
   "mimetype": "text/x-python",
   "name": "python",
   "nbconvert_exporter": "python",
   "pygments_lexer": "ipython3",
   "version": "3.7.0"
  }
 },
 "nbformat": 4,
 "nbformat_minor": 2
}
