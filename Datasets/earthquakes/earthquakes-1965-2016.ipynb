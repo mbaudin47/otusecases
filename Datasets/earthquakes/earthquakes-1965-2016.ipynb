{
 "cells": [
  {
   "cell_type": "markdown",
   "metadata": {},
   "source": [
    "# Analyse de la magnitude des tremblements de terre\n",
    "\n",
    "Source : https://www.kaggle.com/usgs/earthquake-database/version/1\n",
    "\n",
    "Significant Earthquakes, 1965-2016\n",
    "\n",
    "Date, time, and location of all earthquakes with magnitude of 5.5 or higher\n",
    "\n",
    "## Context \n",
    "\n",
    "The National Earthquake Information Center (NEIC) determines the \n",
    "location and size of all significant earthquakes that occur worldwide \n",
    "and disseminates this information immediately to national and \n",
    "international agencies, scientists, critical facilities, and the general \n",
    "public. The NEIC compiles and provides to scientists and to the public \n",
    "an extensive seismic database that serves as a foundation for scientific \n",
    "research through the operation of modern digital national and global \n",
    "seismograph networks and cooperative international agreements. The NEIC \n",
    "is the national data center and archive for earthquake information. \n",
    "\n",
    "## Content \n",
    "\n",
    "This dataset includes a record of the date, time, location, depth, \n",
    "magnitude, and source of every earthquake with a reported magnitude 5.5 \n",
    "or higher since 1965. "
   ]
  },
  {
   "cell_type": "code",
   "execution_count": 1,
   "metadata": {},
   "outputs": [],
   "source": [
    "import pandas as pd\n",
    "import numpy as np"
   ]
  },
  {
   "cell_type": "markdown",
   "metadata": {},
   "source": [
    "On commence par charger les données dans un dataframe."
   ]
  },
  {
   "cell_type": "code",
   "execution_count": 2,
   "metadata": {
    "scrolled": false
   },
   "outputs": [],
   "source": [
    "df = pd.read_csv(\"earthquakes-1965-2016.csv\")"
   ]
  },
  {
   "cell_type": "code",
   "execution_count": 3,
   "metadata": {
    "scrolled": true
   },
   "outputs": [
    {
     "data": {
      "text/plain": [
       "array(['Date', 'Time', 'Latitude', 'Longitude', 'Type', 'Depth',\n",
       "       'Depth Error', 'Depth Seismic Stations', 'Magnitude',\n",
       "       'Magnitude Type', 'Magnitude Error', 'Magnitude Seismic Stations',\n",
       "       'Azimuthal Gap', 'Horizontal Distance', 'Horizontal Error',\n",
       "       'Root Mean Square', 'ID', 'Source', 'Location Source',\n",
       "       'Magnitude Source', 'Status'], dtype=object)"
      ]
     },
     "execution_count": 3,
     "metadata": {},
     "output_type": "execute_result"
    }
   ],
   "source": [
    "df.columns.values"
   ]
  },
  {
   "cell_type": "markdown",
   "metadata": {},
   "source": [
    "Ce sont les 23412 magnitudes qui nous intéressent : on les convertit en array."
   ]
  },
  {
   "cell_type": "code",
   "execution_count": 4,
   "metadata": {
    "scrolled": true
   },
   "outputs": [
    {
     "data": {
      "text/plain": [
       "23412"
      ]
     },
     "execution_count": 4,
     "metadata": {},
     "output_type": "execute_result"
    }
   ],
   "source": [
    "magnitudes = np.array(df.Magnitude)\n",
    "dbn = len(magnitudes)\n",
    "dbn"
   ]
  },
  {
   "cell_type": "markdown",
   "metadata": {},
   "source": [
    "Puis on génère une liste de dates."
   ]
  },
  {
   "cell_type": "code",
   "execution_count": 5,
   "metadata": {},
   "outputs": [],
   "source": [
    "datelist = list(df.Date)"
   ]
  },
  {
   "cell_type": "markdown",
   "metadata": {},
   "source": [
    "Chaque date est une chaîne de caratères."
   ]
  },
  {
   "cell_type": "code",
   "execution_count": 6,
   "metadata": {
    "scrolled": true
   },
   "outputs": [
    {
     "data": {
      "text/plain": [
       "'01/02/1965'"
      ]
     },
     "execution_count": 6,
     "metadata": {},
     "output_type": "execute_result"
    }
   ],
   "source": [
    "datelist[0]"
   ]
  },
  {
   "cell_type": "markdown",
   "metadata": {},
   "source": [
    "Pour récupérer le jour, le mois et l'année, on extrait les caractères et on les convertit en entier."
   ]
  },
  {
   "cell_type": "code",
   "execution_count": 17,
   "metadata": {},
   "outputs": [
    {
     "data": {
      "text/plain": [
       "1"
      ]
     },
     "execution_count": 17,
     "metadata": {},
     "output_type": "execute_result"
    }
   ],
   "source": [
    "day = int(datelist[0][0:2])\n",
    "day"
   ]
  },
  {
   "cell_type": "code",
   "execution_count": 18,
   "metadata": {},
   "outputs": [
    {
     "data": {
      "text/plain": [
       "2"
      ]
     },
     "execution_count": 18,
     "metadata": {},
     "output_type": "execute_result"
    }
   ],
   "source": [
    "month = int(datelist[0][3:5])\n",
    "month"
   ]
  },
  {
   "cell_type": "code",
   "execution_count": 19,
   "metadata": {
    "scrolled": true
   },
   "outputs": [
    {
     "data": {
      "text/plain": [
       "1965"
      ]
     },
     "execution_count": 19,
     "metadata": {},
     "output_type": "execute_result"
    }
   ],
   "source": [
    "year = int(datelist[0][6:10])\n",
    "year"
   ]
  },
  {
   "cell_type": "markdown",
   "metadata": {},
   "source": [
    "On stocke ces données dans un array numpy."
   ]
  },
  {
   "cell_type": "code",
   "execution_count": 10,
   "metadata": {},
   "outputs": [],
   "source": [
    "data = np.zeros((dbn,4))\n",
    "for i in range(dbn):\n",
    "    data[i,0] = int(datelist[i][0:2])\n",
    "    data[i,1] = int(datelist[i][3:5])\n",
    "    data[i,2] = int(datelist[i][6:10])\n",
    "    data[i,3] = magnitudes[i]   "
   ]
  },
  {
   "cell_type": "code",
   "execution_count": 11,
   "metadata": {
    "scrolled": true
   },
   "outputs": [
    {
     "data": {
      "text/plain": [
       "array([[1.000e+00, 2.000e+00, 1.965e+03, 6.000e+00],\n",
       "       [1.000e+00, 4.000e+00, 1.965e+03, 5.800e+00],\n",
       "       [1.000e+00, 5.000e+00, 1.965e+03, 6.200e+00],\n",
       "       [1.000e+00, 8.000e+00, 1.965e+03, 5.800e+00],\n",
       "       [1.000e+00, 9.000e+00, 1.965e+03, 5.800e+00],\n",
       "       [1.000e+00, 1.000e+01, 1.965e+03, 6.700e+00],\n",
       "       [1.000e+00, 1.200e+01, 1.965e+03, 5.900e+00],\n",
       "       [1.000e+00, 1.500e+01, 1.965e+03, 6.000e+00],\n",
       "       [1.000e+00, 1.600e+01, 1.965e+03, 6.000e+00],\n",
       "       [1.000e+00, 1.700e+01, 1.965e+03, 5.800e+00]])"
      ]
     },
     "execution_count": 11,
     "metadata": {},
     "output_type": "execute_result"
    }
   ],
   "source": [
    "data[0:10,:]"
   ]
  },
  {
   "cell_type": "code",
   "execution_count": 14,
   "metadata": {},
   "outputs": [],
   "source": [
    "np.savetxt(\"earthquakes-1965-2016-clean.csv\",data, fmt='%.1f', header=\"Day Month Year Magnitude\", comments=\"\")"
   ]
  }
 ],
 "metadata": {
  "kernelspec": {
   "display_name": "Python 3",
   "language": "python",
   "name": "python3"
  },
  "language_info": {
   "codemirror_mode": {
    "name": "ipython",
    "version": 3
   },
   "file_extension": ".py",
   "mimetype": "text/x-python",
   "name": "python",
   "nbconvert_exporter": "python",
   "pygments_lexer": "ipython3",
   "version": "3.7.0"
  }
 },
 "nbformat": 4,
 "nbformat_minor": 2
}
