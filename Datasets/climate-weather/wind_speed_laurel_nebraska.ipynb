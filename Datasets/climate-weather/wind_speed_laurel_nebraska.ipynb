{
 "cells": [
  {
   "cell_type": "markdown",
   "metadata": {},
   "source": [
    "Contient 221 mesures de vitesse du vent au Nebraska en 2001.\n",
    "\n",
    "Source : https://github.com/plotly/datasets/blob/master/wind_speed_laurel_nebraska.csv"
   ]
  },
  {
   "cell_type": "code",
   "execution_count": 1,
   "metadata": {},
   "outputs": [],
   "source": [
    "import pandas as pd\n",
    "import numpy as np"
   ]
  },
  {
   "cell_type": "code",
   "execution_count": 2,
   "metadata": {},
   "outputs": [],
   "source": [
    "df = pd.read_csv(\"wind_speed_laurel_nebraska.csv\")"
   ]
  },
  {
   "cell_type": "code",
   "execution_count": 3,
   "metadata": {},
   "outputs": [
    {
     "data": {
      "text/plain": [
       "array(['Ten_Min_Std_Dev', 'Time', 'Ten_Min_Sampled_Avg'], dtype=object)"
      ]
     },
     "execution_count": 3,
     "metadata": {},
     "output_type": "execute_result"
    }
   ],
   "source": [
    "df.columns.values"
   ]
  },
  {
   "cell_type": "code",
   "execution_count": 4,
   "metadata": {
    "scrolled": true
   },
   "outputs": [
    {
     "data": {
      "text/plain": [
       "array([2.73, 1.98, 1.87, 2.03, 3.1 , 2.3 , 2.46, 1.87, 1.71, 1.76])"
      ]
     },
     "execution_count": 4,
     "metadata": {},
     "output_type": "execute_result"
    }
   ],
   "source": [
    "std10 = np.array(df.Ten_Min_Std_Dev)\n",
    "std10[0:10]\n"
   ]
  },
  {
   "cell_type": "code",
   "execution_count": 5,
   "metadata": {},
   "outputs": [
    {
     "data": {
      "text/plain": [
       "221"
      ]
     },
     "execution_count": 5,
     "metadata": {},
     "output_type": "execute_result"
    }
   ],
   "source": [
    "dbn = len(std10)\n",
    "dbn"
   ]
  },
  {
   "cell_type": "code",
   "execution_count": 6,
   "metadata": {},
   "outputs": [
    {
     "data": {
      "text/plain": [
       "array([22.3, 23. , 23.3, 22. , 20.5, 25.2, 24.8, 24. , 22.9, 17.9])"
      ]
     },
     "execution_count": 6,
     "metadata": {},
     "output_type": "execute_result"
    }
   ],
   "source": [
    "mu10 = np.array(df.Ten_Min_Sampled_Avg)\n",
    "mu10[0:10]"
   ]
  },
  {
   "cell_type": "code",
   "execution_count": 7,
   "metadata": {},
   "outputs": [
    {
     "data": {
      "text/plain": [
       "['2001-06-11 11:00',\n",
       " '2001-06-11 11:10',\n",
       " '2001-06-11 11:20',\n",
       " '2001-06-11 11:30',\n",
       " '2001-06-11 11:40',\n",
       " '2001-06-11 11:50',\n",
       " '2001-06-11 12:00',\n",
       " '2001-06-11 12:10',\n",
       " '2001-06-11 12:20',\n",
       " '2001-06-11 12:30']"
      ]
     },
     "execution_count": 7,
     "metadata": {},
     "output_type": "execute_result"
    }
   ],
   "source": [
    "datelist = list(df.Time)\n",
    "datelist[0:10]"
   ]
  },
  {
   "cell_type": "markdown",
   "metadata": {},
   "source": [
    "Pour récupérer le jour, le mois et l'année, on extrait les caractères et on les convertit en entier."
   ]
  },
  {
   "cell_type": "code",
   "execution_count": 8,
   "metadata": {},
   "outputs": [
    {
     "data": {
      "text/plain": [
       "'2001-06-11 11:00'"
      ]
     },
     "execution_count": 8,
     "metadata": {},
     "output_type": "execute_result"
    }
   ],
   "source": [
    "datelist[0]"
   ]
  },
  {
   "cell_type": "code",
   "execution_count": 9,
   "metadata": {},
   "outputs": [
    {
     "data": {
      "text/plain": [
       "2001"
      ]
     },
     "execution_count": 9,
     "metadata": {},
     "output_type": "execute_result"
    }
   ],
   "source": [
    "year = int(datelist[0][0:4])\n",
    "year"
   ]
  },
  {
   "cell_type": "code",
   "execution_count": 10,
   "metadata": {},
   "outputs": [
    {
     "data": {
      "text/plain": [
       "6"
      ]
     },
     "execution_count": 10,
     "metadata": {},
     "output_type": "execute_result"
    }
   ],
   "source": [
    "month = int(datelist[0][5:7])\n",
    "month"
   ]
  },
  {
   "cell_type": "code",
   "execution_count": 11,
   "metadata": {},
   "outputs": [
    {
     "data": {
      "text/plain": [
       "11"
      ]
     },
     "execution_count": 11,
     "metadata": {},
     "output_type": "execute_result"
    }
   ],
   "source": [
    "day = int(datelist[0][8:10])\n",
    "day"
   ]
  },
  {
   "cell_type": "markdown",
   "metadata": {},
   "source": [
    "On stocke ces données dans un array numpy."
   ]
  },
  {
   "cell_type": "code",
   "execution_count": 12,
   "metadata": {},
   "outputs": [],
   "source": [
    "data = np.zeros((dbn,5))\n",
    "for i in range(dbn):\n",
    "    year = int(datelist[0][0:4])\n",
    "    month = int(datelist[0][5:7])\n",
    "    day = int(datelist[0][8:10])\n",
    "    data[i,0] = year\n",
    "    data[i,1] = month\n",
    "    data[i,2] = day\n",
    "    data[i,3] = mu10[i]\n",
    "    data[i,4] = std10[i]   "
   ]
  },
  {
   "cell_type": "code",
   "execution_count": 13,
   "metadata": {
    "scrolled": true
   },
   "outputs": [
    {
     "data": {
      "text/plain": [
       "array([[2.001e+03, 6.000e+00, 1.100e+01, 2.230e+01, 2.730e+00],\n",
       "       [2.001e+03, 6.000e+00, 1.100e+01, 2.300e+01, 1.980e+00],\n",
       "       [2.001e+03, 6.000e+00, 1.100e+01, 2.330e+01, 1.870e+00],\n",
       "       [2.001e+03, 6.000e+00, 1.100e+01, 2.200e+01, 2.030e+00],\n",
       "       [2.001e+03, 6.000e+00, 1.100e+01, 2.050e+01, 3.100e+00],\n",
       "       [2.001e+03, 6.000e+00, 1.100e+01, 2.520e+01, 2.300e+00],\n",
       "       [2.001e+03, 6.000e+00, 1.100e+01, 2.480e+01, 2.460e+00],\n",
       "       [2.001e+03, 6.000e+00, 1.100e+01, 2.400e+01, 1.870e+00],\n",
       "       [2.001e+03, 6.000e+00, 1.100e+01, 2.290e+01, 1.710e+00],\n",
       "       [2.001e+03, 6.000e+00, 1.100e+01, 1.790e+01, 1.760e+00]])"
      ]
     },
     "execution_count": 13,
     "metadata": {},
     "output_type": "execute_result"
    }
   ],
   "source": [
    "data[0:10,:]"
   ]
  },
  {
   "cell_type": "code",
   "execution_count": 14,
   "metadata": {},
   "outputs": [],
   "source": [
    "np.savetxt(\"wind_speed_laurel_nebraska-clean.csv\",data, fmt='%.1f', header=\"Year Month Day Ten_Min_Avg Ten_Min_StD\", comments=\"\")"
   ]
  }
 ],
 "metadata": {
  "kernelspec": {
   "display_name": "Python 3",
   "language": "python",
   "name": "python3"
  },
  "language_info": {
   "codemirror_mode": {
    "name": "ipython",
    "version": 3
   },
   "file_extension": ".py",
   "mimetype": "text/x-python",
   "name": "python",
   "nbconvert_exporter": "python",
   "pygments_lexer": "ipython3",
   "version": "3.7.0"
  }
 },
 "nbformat": 4,
 "nbformat_minor": 2
}
