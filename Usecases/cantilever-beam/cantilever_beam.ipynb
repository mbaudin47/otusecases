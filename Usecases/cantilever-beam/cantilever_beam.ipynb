{
 "cells": [
  {
   "cell_type": "markdown",
   "metadata": {},
   "source": [
    "# The cantilever beam model\n"
   ]
  },
  {
   "cell_type": "markdown",
   "metadata": {},
   "source": [
    "We consider a cantilever beam defined by its Young’s modulus $E$, its length $L$ and its section modulus $I$. One end is built in a wall and we apply a concentrated bending load $F$ at the other end of the beam, resulting in a vertical deviation $Y$.\n",
    "\n",
    "<img src=\"poutre.png\" width=\"200\">\n",
    "\n",
    "__Inputs__:  $\\left\\{ E, F, L, I \\right\\}$\n",
    "\n",
    "* $E$ : Young modulus (Pa),\n",
    "* $F$ : Loading (N),\n",
    "* $L$ : Length of beam (cm),\n",
    "* $I$ : Moment of inertia (cm^4).\n",
    "\n",
    "|Variable|  Distribution|\n",
    "| ------------- |-------------|\n",
    "|E|  Beta(r = 0.9, t = 3.5, a = $2.5\\times 10^7$, $b = 5\\times 10^7$) |\n",
    "|F| Lognormal($\\mu_F=30 \\times 10^3$, $\\sigma_F=9\\times 10^3$, shift=$15\\times 10^3$)|\n",
    "|L|Uniform(min=250.0, max= 260.0)|\n",
    "|I| Beta(r = 2.5, t = 4.0, a = 310, b = 450)|\n",
    "\n",
    "In the previous table $\\mu_F=E(F)$ and $\\sigma_F=\\sqrt{V(F)}$ are the mean and the standard deviation of $F$.\n",
    "\n",
    "The input variables are supposed to be independent.\n",
    "\n",
    "__Output__:\n",
    "\n",
    "The vertical displacement at free end of the cantilever beam is:\n",
    "$$\n",
    "Y  = \\dfrac{F\\, L^3}{3 \\, E \\, I}\n",
    "$$\n",
    "\n",
    "It is considered that failure occurs when the beam deviation is greater than 30 cm:\n",
    "$$\n",
    "Y \\geq 30 \\textrm{ (cm)}\n",
    "$$\n",
    "With a Monte-Carlo sample size equal to 7 120 000, we get:\n",
    "$$\n",
    "P(Y\\geq 30) = 0.005590.\n",
    "$$\n",
    "The 95% confidence interval is \n",
    "$$\n",
    "P([0.005536,0.005645]\\ni P_f)=0.95.\n",
    "$$"
   ]
  },
  {
   "cell_type": "markdown",
   "metadata": {},
   "source": [
    "# Model definition"
   ]
  },
  {
   "cell_type": "code",
   "execution_count": 1,
   "metadata": {},
   "outputs": [],
   "source": [
    "import openturns as ot"
   ]
  },
  {
   "cell_type": "code",
   "execution_count": 2,
   "metadata": {},
   "outputs": [],
   "source": [
    "dist_E = ot.Beta(0.9, 3.1, 2.8e7, 4.8e7)\n",
    "dist_E.setDescription([\"E\"])\n",
    "F_para = ot.LogNormalMuSigma(3.0e4, 9.0e3, 15.0e3) # in N\n",
    "dist_F = ot.ParametrizedDistribution(F_para)\n",
    "dist_F.setDescription([\"F\"])\n",
    "dist_L = ot.Uniform(250., 260.) # in cm\n",
    "dist_L.setDescription([\"L\"])\n",
    "dist_I = ot.Beta(2.5, 4, 310., 450.) # in cm^4\n",
    "dist_I.setDescription([\"I\"])\n",
    "\n",
    "myDistribution = ot.ComposedDistribution([dist_E, dist_F, dist_L, dist_I])"
   ]
  },
  {
   "cell_type": "code",
   "execution_count": 3,
   "metadata": {},
   "outputs": [],
   "source": [
    "dim_input = 4 # dimension of the input\n",
    "dim_output = 1 # dimension of the output\n",
    "\n",
    "def function_beam(X):\n",
    "    E, F, L, I = X\n",
    "    Y = F* L**3 /  (3 * E * I)\n",
    "    return [Y]\n",
    "\n",
    "model = ot.PythonFunction( dim_input, dim_output, function_beam)\n",
    "model.setOutputDescription([\"Y (cm)\"])"
   ]
  },
  {
   "cell_type": "code",
   "execution_count": 4,
   "metadata": {},
   "outputs": [],
   "source": [
    "N = 1000 # size of the experimental design\n",
    "X = myDistribution.getSample(N)\n",
    "Y = model(X)"
   ]
  },
  {
   "cell_type": "code",
   "execution_count": 5,
   "metadata": {
    "scrolled": true
   },
   "outputs": [
    {
     "data": {
      "image/png": "[encoded data removed]",
      "text/plain": [
       "class=Graph name=Y (cm) PDF implementation=class=GraphImplementation name=Y (cm) PDF title=Y (cm) PDF xTitle=Y (cm) yTitle=PDF axes=ON grid=ON legendposition=topright legendFontSize=1 drawables=[class=Drawable name=Unnamed implementation=class=Curve name=Unnamed derived from class=DrawableImplementation name=Unnamed legend= data=class=Sample name=Unnamed implementation=class=SampleImplementation name=Unnamed size=168 dimension=2 data=[[5.206,0],[5.81606,0],[5.81606,0],[5.81606,0.0262268],[7.03619,0.0262268],[7.03619,0],[7.03619,0],[7.03619,0.069665],[8.25631,0.069665],[8.25631,0],[8.25631,0],[8.25631,0.083598],[9.47644,0.083598],[9.47644,0],[9.47644,0],[9.47644,0.118021],[10.6966,0.118021],[10.6966,0],[10.6966,0],[10.6966,0.115562],[11.9167,0.115562],[11.9167,0],[11.9167,0],[11.9167,0.110644],[13.1368,0.110644],[13.1368,0],[13.1368,0],[13.1368,0.0803196],[14.3569,0.0803196],[14.3569,0],[14.3569,0],[14.3569,0.055732],[15.5771,0.055732],[15.5771,0],[15.5771,0],[15.5771,0.0393402],[16.7972,0.0393402],[16.7972,0],[16.7972,0],[16.7972,0.0270464],[18.0173,0.0270464],[18.0173,0],[18.0173,0],[18.0173,0.0196701],[19.2374,0.0196701],[19.2374,0],[19.2374,0],[19.2374,0.0221289],[20.4576,0.0221289],[20.4576,0],[20.4576,0],[20.4576,0.0106546],[21.6777,0.0106546],[21.6777,0],[21.6777,0],[21.6777,0.00983505],[22.8978,0.00983505],[22.8978,0],[22.8978,0],[22.8978,0.0065567],[24.1179,0.0065567],[24.1179,0],[24.1179,0],[24.1179,0.00983505],[25.3381,0.00983505],[25.3381,0],[25.3381,0],[25.3381,0.00163918],[26.5582,0.00163918],[26.5582,0],[26.5582,0],[26.5582,0.00327835],[27.7783,0.00327835],[27.7783,0],[27.7783,0],[27.7783,0.00163918],[28.9984,0.00163918],[28.9984,0],[28.9984,0],[28.9984,0.00245876],[30.2186,0.00245876],[30.2186,0],[30.2186,0],[30.2186,0.000819588],[31.4387,0.000819588],[31.4387,0],[31.4387,0],[31.4387,0.000819588],[32.6588,0.000819588],[32.6588,0],[32.6588,0],[32.6588,0.00163918],[33.8789,0.00163918],[33.8789,0],[33.8789,0],[33.8789,0],[35.0991,0],[35.0991,0],[35.0991,0],[35.0991,0.000819588],[36.3192,0.000819588],[36.3192,0],[36.3192,0],[36.3192,0.000819588],[37.5393,0.000819588],[37.5393,0],[37.5393,0],[37.5393,0],[38.7594,0],[38.7594,0],[38.7594,0],[38.7594,0],[39.9796,0],[39.9796,0],[39.9796,0],[39.9796,0],[41.1997,0],[41.1997,0],[41.1997,0],[41.1997,0],[42.4198,0],[42.4198,0],[42.4198,0],[42.4198,0],[43.64,0],[43.64,0],[43.64,0],[43.64,0],[44.8601,0],[44.8601,0],[44.8601,0],[44.8601,0],[46.0802,0],[46.0802,0],[46.0802,0],[46.0802,0],[47.3003,0],[47.3003,0],[47.3003,0],[47.3003,0],[48.5205,0],[48.5205,0],[48.5205,0],[48.5205,0],[49.7406,0],[49.7406,0],[49.7406,0],[49.7406,0],[50.9607,0],[50.9607,0],[50.9607,0],[50.9607,0],[52.1808,0],[52.1808,0],[52.1808,0],[52.1808,0],[53.401,0],[53.401,0],[53.401,0],[53.401,0],[54.6211,0],[54.6211,0],[54.6211,0],[54.6211,0.000819588],[55.8412,0.000819588],[55.8412,0],[55.8412,0],[56.4513,0]] color=red fillStyle=solid lineStyle=solid pointStyle=none lineWidth=2]"
      ]
     },
     "execution_count": 5,
     "metadata": {},
     "output_type": "execute_result"
    }
   ],
   "source": [
    "graph = ot.HistogramFactory().build(Y).drawPDF()\n",
    "graph.setXTitle(\"Y (cm)\")\n",
    "graph.setLegends([\"\"])\n",
    "graph"
   ]
  },
  {
   "cell_type": "code",
   "execution_count": 6,
   "metadata": {},
   "outputs": [],
   "source": [
    "XRV = ot.RandomVector(myDistribution)\n",
    "YRV = ot.CompositeRandomVector(model, XRV)\n",
    "YRV.setDescription(['Y (cm)'])"
   ]
  },
  {
   "cell_type": "code",
   "execution_count": 7,
   "metadata": {},
   "outputs": [],
   "source": [
    "myEvent = ot.Event(YRV, ot.Greater(), 30.)\n",
    "experiment = ot.MonteCarloExperiment()\n",
    "myAlgo = ot.ProbabilitySimulationAlgorithm(myEvent, experiment)\n",
    "myAlgo.setMaximumOuterSampling(100000)\n",
    "myAlgo.setBlockSize(10000)\n",
    "myAlgo.setMaximumCoefficientOfVariation(0.005)\n",
    "myAlgo.run()"
   ]
  },
  {
   "cell_type": "code",
   "execution_count": 8,
   "metadata": {},
   "outputs": [
    {
     "name": "stdout",
     "output_type": "stream",
     "text": [
      "Probability estimate=0.005617\n",
      "Sample size = 7090000\n"
     ]
    }
   ],
   "source": [
    "result = myAlgo.getResult()\n",
    "pf = result.getProbabilityEstimate()\n",
    "print('Probability estimate=%.6f' % (pf))\n",
    "samplesize = result.getOuterSampling() * result.getBlockSize()\n",
    "print(\"Sample size = %d\" % (samplesize))"
   ]
  },
  {
   "cell_type": "code",
   "execution_count": 9,
   "metadata": {},
   "outputs": [],
   "source": [
    "alpha = 0.05"
   ]
  },
  {
   "cell_type": "code",
   "execution_count": 10,
   "metadata": {},
   "outputs": [
    {
     "data": {
      "text/plain": [
       "0.0001100320315580422"
      ]
     },
     "execution_count": 10,
     "metadata": {},
     "output_type": "execute_result"
    }
   ],
   "source": [
    "conflen = result.getConfidenceLength(1-alpha)\n",
    "conflen"
   ]
  },
  {
   "cell_type": "code",
   "execution_count": 11,
   "metadata": {},
   "outputs": [
    {
     "name": "stdout",
     "output_type": "stream",
     "text": [
      "95.00% Confidence interval = [0.005562,0.005672]\n"
     ]
    }
   ],
   "source": [
    "print(\"%.2f%% Confidence interval = [%f,%f]\" % ((1-alpha)*100, pf-conflen/2,pf+conflen/2))"
   ]
  }
 ],
 "metadata": {
  "kernelspec": {
   "display_name": "Python 3",
   "language": "python",
   "name": "python3"
  },
  "language_info": {
   "codemirror_mode": {
    "name": "ipython",
    "version": 3
   },
   "file_extension": ".py",
   "mimetype": "text/x-python",
   "name": "python",
   "nbconvert_exporter": "python",
   "pygments_lexer": "ipython3",
   "version": "3.7.3"
  }
 },
 "nbformat": 4,
 "nbformat_minor": 1
}
