{
 "cells": [
  {
   "cell_type": "markdown",
   "metadata": {},
   "source": [
    "# Deflection of a tube\n",
    "\n",
    "We consider the deflection of a tube under a vertical stress.\n",
    "\n",
    "<img src=\"simply_supported_beam.png\" width=\"300\" />\n",
    "\n",
    "The parameters of the model are :\n",
    "* F : the strength,\n",
    "* L : the length of the tube,\n",
    "* a : position of the fixed part,\n",
    "* D : external diameter of the tube,\n",
    "* d : internal diameter of the tube,\n",
    "* E : Young modulus.\n",
    "\n",
    "The moment of ineria of a round tube with external and internal diameters $D$ and $d$ are :\n",
    "$$\n",
    "I = \\frac{\\pi (D^4-d^4)}{32}.\n",
    "$$\n",
    "The vertical deflection is :\n",
    "$$\n",
    "g(X) = \n",
    "- F \\frac{a^2 (L-a)^2}{3 E L I},\n",
    "$$\n",
    "where $X=(F,L,a,D,d,E)$."
   ]
  },
  {
   "cell_type": "markdown",
   "metadata": {},
   "source": [
    "## References\n",
    "\n",
    "* Deflection of beams by Russ Elliott. http://www.clag.org.uk/beam.html\n",
    "* https://upload.wikimedia.org/wikipedia/commons/f/ff/Simple_beam_with_offset_load.svg\n",
    "* https://en.wikipedia.org/wiki/Deflection_(engineering)\n",
    "* Gere, James M.; Goodno, Barry J. Mechanics of Materials (Eigth ed.). pp. 1083–1087.\n",
    "* Shigley, Mechanical Engineering Design, 1980, McGraw Hill\n",
    "* Mechanics of Materials (Fourth SI edition), by J M Gere and S P Timoshenko, Stanley Thornes"
   ]
  },
  {
   "cell_type": "code",
   "execution_count": null,
   "metadata": {},
   "outputs": [],
   "source": []
  }
 ],
 "metadata": {
  "kernelspec": {
   "display_name": "Python 3",
   "language": "python",
   "name": "python3"
  },
  "language_info": {
   "codemirror_mode": {
    "name": "ipython",
    "version": 3
   },
   "file_extension": ".py",
   "mimetype": "text/x-python",
   "name": "python",
   "nbconvert_exporter": "python",
   "pygments_lexer": "ipython3",
   "version": "3.7.0"
  }
 },
 "nbformat": 4,
 "nbformat_minor": 2
}
