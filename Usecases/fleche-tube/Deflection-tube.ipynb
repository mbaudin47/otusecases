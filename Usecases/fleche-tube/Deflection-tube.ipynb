{
 "cells": [
  {
   "cell_type": "markdown",
   "metadata": {},
   "source": [
    "# Deflection of a tube"
   ]
  },
  {
   "cell_type": "markdown",
   "metadata": {},
   "source": [
    "## Description\n",
    "\n",
    "We consider the deflection of a tube under a vertical stress.\n",
    "\n",
    "<img src=\"simply_supported_beam.png\" width=\"300\" />\n",
    "\n",
    "The parameters of the model are:\n",
    "* F : the strength,\n",
    "* L : the length of the tube,\n",
    "* a : position of the force,\n",
    "* D : external diameter of the tube,\n",
    "* d : internal diameter of the tube,\n",
    "* E : Young modulus.\n",
    "\n",
    "The following figure presents the internal and external diameter of the tube:\n",
    "\n",
    "<img src=\"tube-diameters.png\" width=\"200\" />\n",
    "\n",
    "The area moment of inertia of the cross section about the neutral axis of a round tube (i.e. perpendicular to the section) with external and internal diameters $D$ and $d$ are:\n",
    "$$\n",
    "I = \\frac{\\pi (D^4-d^4)}{32}.\n",
    "$$\n",
    "Note: this equation can be written in terms of the external $R=D/2$ and internal radius $r=d/2$ as:\n",
    "$$\n",
    "I = \\frac{\\pi (R^4-r^4)}{2}.\n",
    "$$\n",
    "\n",
    "The vertical deviation $y$ of the beam at point $x$ is governed by the following differential equation (Statics and Mechanics of Materials, page 606):\n",
    "$$\n",
    "\\frac{d^2y}{dx^2} = \\frac{M(x)}{EI},\n",
    "$$\n",
    "where $M(x)$ is the bending moment. \n",
    "Setting the boundary conditions and integrating twice leads to (Shigley's Mechanical Engineering Design, table A-9, page 1015):\n",
    "$$\n",
    "y(x) = -\\frac{Fbx}{6LEI} (L^2 - b^2 - x^2)\n",
    "$$\n",
    "for any $x\\in[0,a]$. \n",
    "At the point $x=a$, the deflection is \n",
    "$$\n",
    "y(a) = -\\frac{Fba}{6LEI} (L^2 - b^2 - a^2).\n",
    "$$\n",
    "However, the equation $L=a+b$ implies: \n",
    "$$\n",
    "L^2 = (a+b)^2 = a^2 + 2ab + b^2\n",
    "$$\n",
    "which leads to:\n",
    "$$\n",
    "L^2-b^2-a^2 = 2ab.\n",
    "$$\n",
    "Plugging this equation into $y(a)$, we get:\n",
    "$$\n",
    "y(a) = -\\frac{Fba}{6LEI} 2ab = = -\\frac{Fb^2a^2}{3LEI}.\n",
    "$$\n",
    "We finally use the equation $b = L-a$. \n",
    "\n",
    "The vertical deflection is :\n",
    "$$\n",
    "g(X) = \n",
    "- F \\frac{a^2 (L-a)^2}{3 E L I},\n",
    "$$\n",
    "where $X=(F,L,a,D,d,E)$.\n",
    "\n",
    "The following table presents the distributions of the random variables. These variables are assumed to be independent.\n",
    "\n",
    "|Variable|Distribution|\n",
    "|--|--|\n",
    "|F|Normal(1,0.1)|\n",
    "|L|Normal(1.5,0.01)|\n",
    "|a|Uniform(0.7,1.2)|\n",
    "|D|Triangular(0.75,0.8,0.85)|\n",
    "|d|Triangular(0.09,0.1,0.11)|\n",
    "|E|Normal(200000,2000)|\n"
   ]
  },
  {
   "cell_type": "markdown",
   "metadata": {},
   "source": [
    "## References\n",
    "\n",
    "* Deflection of beams by Russ Elliott. http://www.clag.org.uk/beam.html\n",
    "* https://upload.wikimedia.org/wikipedia/commons/f/ff/Simple_beam_with_offset_load.svg\n",
    "* https://en.wikipedia.org/wiki/Deflection_(engineering)\n",
    "* https://mechanicalc.com/reference/beam-deflection-tables\n",
    "* Shigley's Mechanical Engineering Design (9th Edition), Richard G. Budynas, J. Keith Nisbettn, McGraw Hill (2011)\n",
    "* Mechanics of Materials (7th Edition), James M. Gere, Barry J. Goodno, Cengage Learning (2009)\n",
    "* Statics and Mechanics of Materials (5th Edition), Ferdinand Beer, E. Russell Johnston, Jr., John DeWolf, David Mazurek. Mc Graw Hill (2011) Chapter 15: deflection of beams."
   ]
  },
  {
   "cell_type": "code",
   "execution_count": 1,
   "metadata": {},
   "outputs": [],
   "source": [
    "import openturns as ot"
   ]
  },
  {
   "cell_type": "markdown",
   "metadata": {},
   "source": [
    "We use the variable names `De` for the external diameter and `di` for the internal diameter because the symbolic function engine is not case sensitive, hence the variable names `D` and `d` would not be distiguished."
   ]
  },
  {
   "cell_type": "code",
   "execution_count": 2,
   "metadata": {},
   "outputs": [],
   "source": [
    "inputsvars=[\"F\",\"L\",\"a\",\"De\",\"di\",\"E\"]\n",
    "formula = [\"-F*a^2*(L-a)^2/(3*E*L*pi_*(De^4-di^4)/32)\"]\n",
    "g = ot.SymbolicFunction(inputsvars,formula)"
   ]
  },
  {
   "cell_type": "code",
   "execution_count": 3,
   "metadata": {},
   "outputs": [],
   "source": [
    "XF=ot.Normal(1,0.1)\n",
    "XL=ot.Normal(1.5,0.01)\n",
    "Xa=ot.Uniform(0.7,1.2)\n",
    "XD=ot.Triangular(0.75,0.8,0.85)\n",
    "Xd=ot.Triangular(0.09,0.1,0.11)\n",
    "XE=ot.Normal(200000,2000)\n",
    "XF.setDescription([\"Force\"])\n",
    "XL.setDescription([\"Longueur\"])\n",
    "Xa.setDescription([\"Location\"])\n",
    "XD.setDescription([\"External diameter\"])\n",
    "Xd.setDescription([\"Internal diameter\"])\n",
    "XE.setDescription([\"Young Modulus\"])"
   ]
  },
  {
   "cell_type": "code",
   "execution_count": 4,
   "metadata": {},
   "outputs": [],
   "source": [
    "inputDistribution = ot.ComposedDistribution([XF,XL,Xa,XD,Xd,XE])"
   ]
  },
  {
   "cell_type": "code",
   "execution_count": 5,
   "metadata": {},
   "outputs": [],
   "source": [
    "n = 500\n",
    "inputSample = inputDistribution.getSample(n)"
   ]
  },
  {
   "cell_type": "code",
   "execution_count": 6,
   "metadata": {},
   "outputs": [],
   "source": [
    "outputSample = g(inputSample)"
   ]
  },
  {
   "cell_type": "code",
   "execution_count": 7,
   "metadata": {},
   "outputs": [
    {
     "data": {
      "image/png": "[encoded data removed]",
      "text/plain": [
       "class=Graph name=sample histogram implementation=class=GraphImplementation name=sample histogram title=Vertical deflection - N=500 xTitle=Vertical deflection yTitle=frequency axes=ON grid=ON legendposition=topright legendFontSize=1 drawables=[class=Drawable name=Unnamed implementation=class=Curve name=Unnamed derived from class=DrawableImplementation name=Unnamed legend= data=class=Sample name=Unnamed implementation=class=SampleImplementation name=Unnamed size=48 dimension=2 data=[[-1.27515e-05,0],[-1.23205e-05,0],[-1.23205e-05,0],[-1.23205e-05,4639.59],[-1.14583e-05,4639.59],[-1.14583e-05,0],[-1.14583e-05,0],[-1.14583e-05,39436.5],[-1.05962e-05,39436.5],[-1.05962e-05,0],[-1.05962e-05,0],[-1.05962e-05,51035.5],[-9.73402e-06,51035.5],[-9.73402e-06,0],[-9.73402e-06,0],[-9.73402e-06,127589],[-8.87187e-06,127589],[-8.87187e-06,0],[-8.87187e-06,0],[-8.87187e-06,185584],[-8.00973e-06,185584],[-8.00973e-06,0],[-8.00973e-06,0],[-8.00973e-06,178624],[-7.14758e-06,178624],[-7.14758e-06,0],[-7.14758e-06,0],[-7.14758e-06,164705],[-6.28544e-06,164705],[-6.28544e-06,0],[-6.28544e-06,0],[-6.28544e-06,153107],[-5.42329e-06,153107],[-5.42329e-06,0],[-5.42329e-06,0],[-5.42329e-06,99751.2],[-4.56115e-06,99751.2],[-4.56115e-06,0],[-4.56115e-06,0],[-4.56115e-06,95111.6],[-3.699e-06,95111.6],[-3.699e-06,0],[-3.699e-06,0],[-3.699e-06,60314.7],[-2.83686e-06,60314.7],[-2.83686e-06,0],[-2.83686e-06,0],[-2.40579e-06,0]] color=red fillStyle=solid lineStyle=solid pointStyle=none lineWidth=2]"
      ]
     },
     "execution_count": 7,
     "metadata": {},
     "output_type": "execute_result"
    }
   ],
   "source": [
    "graph = ot.VisualTest.DrawHistogram(outputSample)\n",
    "graph.setTitle(\"Vertical deflection - N=%d\" % (n))\n",
    "graph.setXTitle(\"Vertical deflection\")\n",
    "graph.setLegends([\"\"])\n",
    "graph"
   ]
  }
 ],
 "metadata": {
  "kernelspec": {
   "display_name": "Python 3",
   "language": "python",
   "name": "python3"
  },
  "language_info": {
   "codemirror_mode": {
    "name": "ipython",
    "version": 3
   },
   "file_extension": ".py",
   "mimetype": "text/x-python",
   "name": "python",
   "nbconvert_exporter": "python",
   "pygments_lexer": "ipython3",
   "version": "3.7.0"
  }
 },
 "nbformat": 4,
 "nbformat_minor": 2
}
