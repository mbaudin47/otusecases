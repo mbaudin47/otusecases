{
 "cells": [
  {
   "cell_type": "markdown",
   "metadata": {},
   "source": [
    "# Calage sur le cas crue par régression linéaire\n",
    "\n",
    "Dans ce texte, nous réalisons le calage d'un modèle de hauteurs d'eau."
   ]
  },
  {
   "cell_type": "markdown",
   "metadata": {},
   "source": [
    "Modèle : Cas Crue\n",
    "\n",
    "### Références\n",
    "\n",
    "* http://openturns.github.io/openturns/1.11/examples/flood_model.html\n",
    "* http://openturns.github.io/openturns/1.11/theory/reliability_sensitivity/monte_carlo_simulation.html\n",
    "\n",
    "\n",
    "### Objectifs\n",
    "* Prédire la hauteur de l'eau H en fonction du débit Q\n",
    "\n",
    "### Entrées\n",
    "On considère les quatre variables suivantes : \n",
    "* Q : le débit de la rivière ($m^3/s$)\n",
    "* Ks : le coefficient de Strickler ($m^{1/3}/s$)\n",
    "* Zv : la côte du fond de la rivière en aval (m)\n",
    "* Zm : la côte du fond de la rivière en amont (m)\n",
    "\n",
    "### Notes : \n",
    "* Quand Ks augmente, le fond de la rivière oppose moins de frottement à l'écoulement de l'eau.\n",
    "* On fait l'hypothèse que les variables sont statistiquement indépendantes.\n",
    "\n",
    "### Paramètres\n",
    "\n",
    "On considère les valeurs suivantes des paramètres :\n",
    "* la longueur du tronçon de rivière L = 5000 (m),\n",
    "* la largeur de la rivière B = 300 (m).\n",
    "\n",
    "### Sortie\n",
    "\n",
    "La pente de la rivière est supposée proche de zéro, ce qui implique :\n",
    "$$\n",
    "\\alpha = \\frac{Z_m - Z_v}{L},\n",
    "$$\n",
    "si $Z_m \\geq Z_v$. \n",
    "La hauteur de l'eau est modélisée par :\n",
    "$$\n",
    "H = \\left(\\frac{Q}{K_s B \\sqrt{\\alpha}}\\right)^{0.6},\n",
    "$$\n",
    "pour tous $K_s, Q>0$.\n",
    "\n",
    "<img src=\"https://forge.pleiade.edf.fr/attachments/download/24450/river_section_adjusted_light.png\" width=\"400\" />\n",
    "\n",
    "### Lois de distribution\n",
    "\n",
    "On fait l'hypothèse que le débit suit la loi de Gumbel tronquée suivante :\n",
    "\n",
    "|Variable|Distribution|\n",
    "| ------------- |-------------|\n",
    "|Q|Gumbel(scale=558, mode=1013)>0|\n",
    "\n",
    "### Paramètres à identifier\n",
    "\n",
    "Les variables $(Kz,Zv,Zm)$ à caler sont les suivantes :\n",
    "$$\n",
    "Ks = 30, \\qquad Zv = 50, \\qquad Zm = 55.\n",
    "$$\n",
    "\n",
    "### Observations\n",
    "\n",
    "Les hauteurs d'eau observées sont entachées d'un bruit d'observation de moyenne nulle et d'écart-type\n",
    "$$\n",
    "\\sigma=0.1.\n",
    "$$\n",
    "Les hauteurs d'eau observées sont \n",
    "$$\n",
    "H_i = G(Q_i,Ks,Zv,Zm) + \\epsilon\n",
    "$$\n",
    "pour $i=1,...,n$ où \n",
    "$$\n",
    "\\epsilon \\sim \\mathcal{N}(0,\\sigma^2)\n",
    "$$\n",
    "et $Q$ est uniforme entre \n",
    "On considère un échantillon de taille \n",
    "$$\n",
    "n=100.\n",
    "$$\n",
    "Les observations sont des couples $(Q,H)$ et \n",
    "\n",
    "### Analyse\n",
    "\n",
    "Dans ce modèle, les variables $Z_m$ et $Z_v$ ne sont pas identifiables, puisque seule la différence $Z_m-Z_v$ importe."
   ]
  },
  {
   "cell_type": "code",
   "execution_count": 1,
   "metadata": {},
   "outputs": [],
   "source": [
    "import openturns as ot\n",
    "import numpy as np"
   ]
  },
  {
   "cell_type": "code",
   "execution_count": 2,
   "metadata": {},
   "outputs": [],
   "source": [
    "ot.ResourceMap.SetAsString('R-executable-command','C:\\\\Users\\\\c61372\\\\AppData\\\\Local\\\\Continuum\\\\anaconda3-5-3\\\\Lib\\\\R\\\\bin\\\\R.exe')"
   ]
  },
  {
   "cell_type": "code",
   "execution_count": 3,
   "metadata": {},
   "outputs": [],
   "source": [
    "def functionCrue(X) :\n",
    "    L = 5.0e3\n",
    "    B = 300.0\n",
    "    Q, K_s, Z_v, Z_m = X\n",
    "    alpha = (Z_m - Z_v)/L\n",
    "    H = (Q/(K_s*B*np.sqrt(alpha)))**(3.0/5.0)\n",
    "    return [H]"
   ]
  },
  {
   "cell_type": "markdown",
   "metadata": {},
   "source": [
    "## Calage par moindres carrés non-linéaires"
   ]
  },
  {
   "cell_type": "markdown",
   "metadata": {},
   "source": [
    "On commence par charger les données : il y a 100 observations du couple (Q,H)."
   ]
  },
  {
   "cell_type": "code",
   "execution_count": 4,
   "metadata": {},
   "outputs": [
    {
     "data": {
      "text/plain": [
       "100"
      ]
     },
     "execution_count": 4,
     "metadata": {},
     "output_type": "execute_result"
    }
   ],
   "source": [
    "observedSample = ot.Sample_ImportFromCSVFile(\"hauteurs-observations.csv\")\n",
    "nbobs = observedSample.getSize()\n",
    "Qobs = observedSample[:,0]\n",
    "Hobs = observedSample[:,1]\n",
    "nbobs"
   ]
  },
  {
   "cell_type": "code",
   "execution_count": 5,
   "metadata": {},
   "outputs": [
    {
     "data": {
      "image/png": "[encoded data removed]",
      "text/plain": [
       "class=Graph name=Unnamed implementation=class=GraphImplementation name=Unnamed title= xTitle=Q (m3/s) yTitle=H (m) axes=ON grid=ON legendposition= legendFontSize=1 drawables=[class=Drawable name=Unnamed implementation=class=Cloud name=Unnamed derived from class=DrawableImplementation name=Unnamed legend=Predictions data=class=Sample name=Unnamed implementation=class=SampleImplementation name=Unnamed size=100 dimension=2 data=[[1007.61,2.17708],[1620.01,2.75539],[1459.35,2.75238],[2095.06,3.22197],[1189.12,2.26657],[465.184,1.45918],[1206.06,2.40854],[517.761,1.481],[1267.25,2.49757],[2322.23,3.44482],[1079.21,2.15799],[663.767,1.64833],[1136.28,2.19766],[746.64,1.66491],[1262.58,2.58743],[1206.77,2.32027],[895.918,1.81661],[1001.5,2.20988],[1400.46,2.90425],[1309.74,2.66848],[1303.5,2.32702],[1388.41,2.48836],[2291.21,3.57269],[778.558,1.77712],[1274.33,2.45472],[818.572,1.84092],[1097.23,2.22122],[635.747,1.53212],[1975.03,2.94343],[2730.9,3.87797],[1845.5,3.06772],[1727.36,3.01035],[1418,2.63565],[2807.59,3.87417],[398.15,1.171],[1888.79,3.1721],[1126.26,2.23564],[1272.11,2.23846],[598.299,1.51847],[1648.73,2.89587],[2549.37,3.68982],[551.007,1.60129],[2216.02,3.42266],[1277.5,2.50801],[899.415,1.93224],[2086.32,3.14182],[1439.73,2.59067],[742.229,1.75041],[760.366,1.80539],[4207.55,5.09591],[929.794,2.11135],[251.716,1.01785],[406.314,1.38618],[747.474,1.85099],[305.868,1.18507],[1320.62,2.56904],[1523.96,2.9261],[1316.73,2.59285],[1374.97,2.48221],[1408.11,2.55623],[1159.91,2.25948],[1012.73,2.27651],[2234.26,3.21638],[2351.2,3.59232],[597.346,1.46062],[548.407,1.37348],[675.312,1.69052],[1690.36,2.9801],[651.242,1.53773],[1532.39,2.74544],[814.897,1.9361],[1319.71,2.50743],[1206.24,2.38559],[1422.87,2.60283],[1366.68,2.4346],[1725.43,2.84658],[1117.05,2.10029],[712.857,1.82916],[1162.21,2.27185],[728.312,1.65739],[1517.78,2.58965],[1547.3,2.95645],[127.277,0.694986],[747.097,1.8982],[2050.82,3.34159],[1208.76,2.3362],[662.875,1.72262],[877.558,2.03746],[902.402,2.06446],[1137.12,2.34241],[2417.6,3.56905],[1394.15,2.74033],[3085.08,4.13729],[84.8226,0.538627],[588.909,1.692],[1480.89,2.65737],[802.929,1.72341],[791.029,1.9767],[1015.03,2.09605],[515.123,1.40034]] color=blue fillStyle=solid lineStyle=solid pointStyle=plus lineWidth=1]"
      ]
     },
     "execution_count": 5,
     "metadata": {},
     "output_type": "execute_result"
    }
   ],
   "source": [
    "graph = ot.Graph('', 'Q (m3/s)', 'H (m)', True, '')\n",
    "cloud = ot.Cloud(Qobs, Hobs)\n",
    "cloud.setLegend(\"Predictions\")\n",
    "graph.add(cloud)\n",
    "graph"
   ]
  },
  {
   "cell_type": "code",
   "execution_count": 6,
   "metadata": {},
   "outputs": [],
   "source": [
    "def calibrationFunction(theta):\n",
    "    Ks, Zv, Zm = theta\n",
    "    Hpredicted = ot.Point(nbobs)\n",
    "    for i in range(nbobs):\n",
    "        X = ot.Point([Qobs[i,0],Ks, Zv, Zm])\n",
    "        Hpredicted[i] = functionCrue(X)[0]\n",
    "    return Hpredicted"
   ]
  },
  {
   "cell_type": "code",
   "execution_count": 7,
   "metadata": {},
   "outputs": [],
   "source": [
    "calibrationG = ot.PythonFunction(3,nbobs,calibrationFunction)"
   ]
  },
  {
   "cell_type": "markdown",
   "metadata": {},
   "source": [
    "Définit les bornes des variables du problème pour la variable $\\theta$."
   ]
  },
  {
   "cell_type": "code",
   "execution_count": 8,
   "metadata": {},
   "outputs": [],
   "source": [
    "boundsMin = [20.,40.,40.]\n",
    "boundsMax = [40.,60.,60.]\n",
    "bounds = ot.Interval(boundsMin,boundsMax)"
   ]
  },
  {
   "cell_type": "markdown",
   "metadata": {},
   "source": [
    "Définit le point de départ de l'algorithme d'optimisation."
   ]
  },
  {
   "cell_type": "code",
   "execution_count": 9,
   "metadata": {},
   "outputs": [],
   "source": [
    "KsInitial = 20.\n",
    "ZvInitial = 49.\n",
    "ZmInitial = 51.\n",
    "theta0 = ot.Point([KsInitial,ZvInitial,ZmInitial])"
   ]
  },
  {
   "cell_type": "markdown",
   "metadata": {},
   "source": [
    "Calcule les hauteurs d'eau prédites au point de référence."
   ]
  },
  {
   "cell_type": "code",
   "execution_count": 10,
   "metadata": {},
   "outputs": [],
   "source": [
    "Hpredicted0 = calibrationFunction(theta0)"
   ]
  },
  {
   "cell_type": "code",
   "execution_count": 11,
   "metadata": {},
   "outputs": [],
   "source": [
    "labelsTheta = (\"Ks (m^(1/3)/s)\",\"Zv (m)\",\"Zm (m)\")"
   ]
  },
  {
   "cell_type": "markdown",
   "metadata": {},
   "source": [
    "Calcule le gradient du modèle au point de l'ébauche."
   ]
  },
  {
   "cell_type": "code",
   "execution_count": 12,
   "metadata": {},
   "outputs": [],
   "source": [
    "H = calibrationG.gradient(theta0)"
   ]
  },
  {
   "cell_type": "markdown",
   "metadata": {},
   "source": [
    "Convertit la Matrix en Sample."
   ]
  },
  {
   "cell_type": "code",
   "execution_count": 13,
   "metadata": {},
   "outputs": [],
   "source": [
    "dim = len(theta0)\n",
    "Hsample = ot.Sample(nbobs,dim)\n",
    "for i in range(nbobs):\n",
    "    for j in range(dim):\n",
    "        Hsample[i,j] = H[j,i]"
   ]
  },
  {
   "cell_type": "markdown",
   "metadata": {},
   "source": [
    "Résout le problème de moindres carrés linéaires."
   ]
  },
  {
   "cell_type": "code",
   "execution_count": 14,
   "metadata": {},
   "outputs": [],
   "source": [
    "LMF = ot.LinearModelFactory()"
   ]
  },
  {
   "cell_type": "code",
   "execution_count": 15,
   "metadata": {},
   "outputs": [],
   "source": [
    "deltaY = Hobs.asPoint() - Hpredicted0\n",
    "deltaY = ot.Sample(deltaY,1)"
   ]
  },
  {
   "cell_type": "code",
   "execution_count": 16,
   "metadata": {},
   "outputs": [],
   "source": [
    "myLeastSquares = ot.LinearLeastSquares(Hsample, deltaY)\n",
    "myLeastSquares.run()"
   ]
  },
  {
   "cell_type": "code",
   "execution_count": 17,
   "metadata": {
    "scrolled": true
   },
   "outputs": [
    {
     "data": {
      "text/html": [
       "<p>[0.272642,-1.36321,1.36321]</p>"
      ],
      "text/plain": [
       "class=Point name=Unnamed dimension=3 values=[0.272642,-1.36321,1.36321]"
      ]
     },
     "execution_count": 17,
     "metadata": {},
     "output_type": "execute_result"
    }
   ],
   "source": [
    "deltaThetaMatrix = myLeastSquares.getLinear()\n",
    "deltaTheta = ot.Point(dim)\n",
    "for i in range(dim):\n",
    "    deltaTheta[i] = deltaThetaMatrix[i,0]\n",
    "deltaTheta"
   ]
  },
  {
   "cell_type": "code",
   "execution_count": 18,
   "metadata": {},
   "outputs": [
    {
     "data": {
      "text/html": [
       "<p>[20.2726,47.6368,52.3632]</p>"
      ],
      "text/plain": [
       "class=Point name=Unnamed dimension=3 values=[20.2726,47.6368,52.3632]"
      ]
     },
     "execution_count": 18,
     "metadata": {},
     "output_type": "execute_result"
    }
   ],
   "source": [
    "thetaStar = theta0 + deltaTheta\n",
    "thetaStar"
   ]
  },
  {
   "cell_type": "markdown",
   "metadata": {},
   "source": [
    "Calcule les hauteurs d'eau prédites au point optimal."
   ]
  },
  {
   "cell_type": "code",
   "execution_count": 19,
   "metadata": {},
   "outputs": [],
   "source": [
    "HpredictedStar = calibrationFunction(thetaStar)"
   ]
  },
  {
   "cell_type": "markdown",
   "metadata": {},
   "source": [
    "Plot model versus data after calibration."
   ]
  },
  {
   "cell_type": "code",
   "execution_count": 20,
   "metadata": {},
   "outputs": [
    {
     "data": {
      "image/png": "[encoded data removed]",
      "text/plain": [
       "class=Graph name=Unnamed implementation=class=GraphImplementation name=Unnamed title= xTitle=Q (m3/s) yTitle=H (m) axes=ON grid=ON legendposition=topleft legendFontSize=1 drawables=[class=Drawable name=Unnamed implementation=class=Cloud name=Unnamed derived from class=DrawableImplementation name=Unnamed legend=Predictions before data=class=Sample name=Unnamed implementation=class=SampleImplementation name=Unnamed size=100 dimension=2 data=[[1007.61,3.58481],[1620.01,4.76653],[1459.35,4.477],[2095.06,5.56172],[1189.12,3.95938],[465.184,2.25458],[1206.06,3.99312],[517.761,2.40419],[1267.25,4.11347],[2322.23,5.91609],[1079.21,3.73555],[663.767,2.79062],[1136.28,3.85286],[746.64,2.99473],[1262.58,4.10437],[1206.77,3.99453],[895.918,3.34081],[1001.5,3.57176],[1400.46,4.3677],[1309.74,4.19568],[1303.5,4.18367],[1388.41,4.34512],[2291.21,5.86855],[778.558,3.0709],[1274.33,4.12725],[818.572,3.16465],[1097.23,3.77285],[635.747,2.71933],[1975.03,5.36828],[2730.9,6.52041],[1845.5,5.15418],[1727.36,4.9536],[1418,4.40045],[2807.59,6.62967],[398.15,2.05361],[1888.79,5.22639],[1126.26,3.83244],[1272.11,4.12294],[598.299,2.62206],[1648.73,4.81705],[2549.37,6.25679],[551.007,2.49566],[2216.02,5.75222],[1277.5,4.1334],[899.415,3.34863],[2086.32,5.54779],[1439.73,4.44079],[742.229,2.9841],[760.366,3.02764],[4207.55,8.45102],[929.794,3.41604],[251.716,1.55969],[406.314,2.07878],[747.474,2.99674],[305.868,1.75312],[1320.62,4.21655],[1523.96,4.5949],[1316.73,4.20909],[1374.97,4.31983],[1408.11,4.38201],[1159.91,3.90074],[1012.73,3.59573],[2234.26,5.78059],[2351.2,5.96025],[597.346,2.61955],[548.407,2.48859],[675.312,2.81964],[1690.36,4.88966],[651.242,2.75891],[1532.39,4.61013],[814.897,3.15612],[1319.71,4.21481],[1206.24,3.99349],[1422.87,4.40952],[1366.68,4.3042],[1725.43,4.95028],[1117.05,3.8136],[712.857,2.91268],[1162.21,3.90537],[728.312,2.95041],[1517.78,4.5837],[1547.3,4.63699],[127.277,1.03596],[747.097,2.99583],[2050.82,5.49096],[1208.76,3.99848],[662.875,2.78837],[877.558,3.29957],[902.402,3.3553],[1137.12,3.85456],[2417.6,6.06069],[1394.15,4.35588],[3085.08,7.01538],[84.8226,0.812079],[588.909,2.59729],[1480.89,4.51653],[802.929,3.12822],[791.029,3.10032],[1015.03,3.60062],[515.123,2.39683]] color=red fillStyle=solid lineStyle=solid pointStyle=plus lineWidth=1,class=Drawable name=Unnamed implementation=class=Cloud name=Unnamed derived from class=DrawableImplementation name=Unnamed legend=Predictions after data=class=Sample name=Unnamed implementation=class=SampleImplementation name=Unnamed size=100 dimension=2 data=[[1007.61,2.74718],[1620.01,3.65278],[1459.35,3.4309],[2095.06,4.26217],[1189.12,3.03423],[465.184,1.72778],[1206.06,3.06008],[517.761,1.84243],[1267.25,3.15231],[2322.23,4.53373],[1079.21,2.8627],[663.767,2.13856],[1136.28,2.9526],[746.64,2.29498],[1262.58,3.14534],[1206.77,3.06117],[895.918,2.5602],[1001.5,2.73718],[1400.46,3.34714],[1309.74,3.21532],[1303.5,3.20611],[1388.41,3.32983],[2291.21,4.4973],[778.558,2.35335],[1274.33,3.16287],[818.572,2.4252],[1097.23,2.89128],[635.747,2.08393],[1975.03,4.11393],[2730.9,4.99685],[1845.5,3.94985],[1727.36,3.79614],[1418,3.37224],[2807.59,5.08058],[398.15,1.57377],[1888.79,4.00519],[1126.26,2.93695],[1272.11,3.15957],[598.299,2.00939],[1648.73,3.6915],[2549.37,4.79482],[551.007,1.91252],[2216.02,4.40815],[1277.5,3.16759],[899.415,2.56619],[2086.32,4.25149],[1439.73,3.40315],[742.229,2.28684],[760.366,2.3202],[4207.55,6.47635],[929.794,2.61785],[251.716,1.19525],[406.314,1.59305],[747.474,2.29652],[305.868,1.34348],[1320.62,3.23131],[1523.96,3.52125],[1316.73,3.2256],[1374.97,3.31045],[1408.11,3.35811],[1159.91,2.98929],[1012.73,2.75555],[2234.26,4.42989],[2351.2,4.56758],[597.346,2.00747],[548.407,1.9071],[675.312,2.1608],[1690.36,3.74714],[651.242,2.11426],[1532.39,3.53292],[814.897,2.41866],[1319.71,3.22998],[1206.24,3.06037],[1422.87,3.37919],[1366.68,3.29848],[1725.43,3.79359],[1117.05,2.92251],[712.857,2.2321],[1162.21,2.99284],[728.312,2.26101],[1517.78,3.51267],[1547.3,3.55351],[127.277,0.793895],[747.097,2.29582],[2050.82,4.20794],[1208.76,3.0642],[662.875,2.13684],[877.558,2.52859],[902.402,2.5713],[1137.12,2.9539],[2417.6,4.64455],[1394.15,3.33809],[3085.08,5.37617],[84.8226,0.622328],[588.909,1.99041],[1480.89,3.46119],[802.929,2.39728],[791.029,2.3759],[1015.03,2.7593],[515.123,1.83679]] color=green fillStyle=solid lineStyle=solid pointStyle=plus lineWidth=1,class=Drawable name=Unnamed implementation=class=Cloud name=Unnamed derived from class=DrawableImplementation name=Unnamed legend=Observations data=class=Sample name=Unnamed implementation=class=SampleImplementation name=Unnamed size=100 dimension=2 data=[[1007.61,2.17708],[1620.01,2.75539],[1459.35,2.75238],[2095.06,3.22197],[1189.12,2.26657],[465.184,1.45918],[1206.06,2.40854],[517.761,1.481],[1267.25,2.49757],[2322.23,3.44482],[1079.21,2.15799],[663.767,1.64833],[1136.28,2.19766],[746.64,1.66491],[1262.58,2.58743],[1206.77,2.32027],[895.918,1.81661],[1001.5,2.20988],[1400.46,2.90425],[1309.74,2.66848],[1303.5,2.32702],[1388.41,2.48836],[2291.21,3.57269],[778.558,1.77712],[1274.33,2.45472],[818.572,1.84092],[1097.23,2.22122],[635.747,1.53212],[1975.03,2.94343],[2730.9,3.87797],[1845.5,3.06772],[1727.36,3.01035],[1418,2.63565],[2807.59,3.87417],[398.15,1.171],[1888.79,3.1721],[1126.26,2.23564],[1272.11,2.23846],[598.299,1.51847],[1648.73,2.89587],[2549.37,3.68982],[551.007,1.60129],[2216.02,3.42266],[1277.5,2.50801],[899.415,1.93224],[2086.32,3.14182],[1439.73,2.59067],[742.229,1.75041],[760.366,1.80539],[4207.55,5.09591],[929.794,2.11135],[251.716,1.01785],[406.314,1.38618],[747.474,1.85099],[305.868,1.18507],[1320.62,2.56904],[1523.96,2.9261],[1316.73,2.59285],[1374.97,2.48221],[1408.11,2.55623],[1159.91,2.25948],[1012.73,2.27651],[2234.26,3.21638],[2351.2,3.59232],[597.346,1.46062],[548.407,1.37348],[675.312,1.69052],[1690.36,2.9801],[651.242,1.53773],[1532.39,2.74544],[814.897,1.9361],[1319.71,2.50743],[1206.24,2.38559],[1422.87,2.60283],[1366.68,2.4346],[1725.43,2.84658],[1117.05,2.10029],[712.857,1.82916],[1162.21,2.27185],[728.312,1.65739],[1517.78,2.58965],[1547.3,2.95645],[127.277,0.694986],[747.097,1.8982],[2050.82,3.34159],[1208.76,2.3362],[662.875,1.72262],[877.558,2.03746],[902.402,2.06446],[1137.12,2.34241],[2417.6,3.56905],[1394.15,2.74033],[3085.08,4.13729],[84.8226,0.538627],[588.909,1.692],[1480.89,2.65737],[802.929,1.72341],[791.029,1.9767],[1015.03,2.09605],[515.123,1.40034]] color=blue fillStyle=solid lineStyle=solid pointStyle=plus lineWidth=1]"
      ]
     },
     "execution_count": 20,
     "metadata": {},
     "output_type": "execute_result"
    }
   ],
   "source": [
    "graph = ot.Graph('', 'Q (m3/s)', 'H (m)', True, '')\n",
    "#\n",
    "cloudPred0 = ot.Cloud(Qobs, ot.Sample(Hpredicted0,1))\n",
    "cloudPred0.setLegend(\"Predictions before\")\n",
    "cloudPred0.setColor(\"red\")\n",
    "graph.add(cloudPred0)\n",
    "#\n",
    "cloudPredStar = ot.Cloud(Qobs, ot.Sample(HpredictedStar,1))\n",
    "cloudPredStar.setLegend(\"Predictions after\")\n",
    "cloudPredStar.setColor(\"green\")\n",
    "graph.add(cloudPredStar)\n",
    "#\n",
    "cloudObs = ot.Cloud(Qobs, Hobs)\n",
    "cloudObs.setColor(\"blue\")\n",
    "cloudObs.setLegend(\"Observations\")\n",
    "graph.add(cloudObs)\n",
    "#\n",
    "graph.setLegendPosition('topleft')\n",
    "graph"
   ]
  }
 ],
 "metadata": {
  "kernelspec": {
   "display_name": "Python 3",
   "language": "python",
   "name": "python3"
  },
  "language_info": {
   "codemirror_mode": {
    "name": "ipython",
    "version": 3
   },
   "file_extension": ".py",
   "mimetype": "text/x-python",
   "name": "python",
   "nbconvert_exporter": "python",
   "pygments_lexer": "ipython3",
   "version": "3.7.0"
  }
 },
 "nbformat": 4,
 "nbformat_minor": 2
}
