{
 "cells": [
  {
   "cell_type": "markdown",
   "metadata": {},
   "source": [
    "# Calage sur le cas crue par régression linéaire\n",
    "\n",
    "Dans ce texte, nous réalisons le calage d'un modèle de hauteurs d'eau."
   ]
  },
  {
   "cell_type": "markdown",
   "metadata": {},
   "source": [
    "Modèle : Cas Crue\n",
    "\n",
    "### Références\n",
    "\n",
    "* http://openturns.github.io/openturns/1.11/examples/flood_model.html\n",
    "* http://openturns.github.io/openturns/1.11/theory/reliability_sensitivity/monte_carlo_simulation.html\n",
    "\n",
    "\n",
    "### Objectifs\n",
    "* Prédire la hauteur de l'eau H en fonction du débit Q\n",
    "\n",
    "### Entrées\n",
    "On considère les quatre variables suivantes : \n",
    "* Q : le débit de la rivière ($m^3/s$)\n",
    "* Ks : le coefficient de Strickler ($m^{1/3}/s$)\n",
    "* Zv : la côte du fond de la rivière en aval (m)\n",
    "* Zm : la côte du fond de la rivière en amont (m)\n",
    "\n",
    "### Notes : \n",
    "* Quand Ks augmente, le fond de la rivière oppose moins de frottement à l'écoulement de l'eau.\n",
    "* On fait l'hypothèse que les variables sont statistiquement indépendantes.\n",
    "\n",
    "### Paramètres\n",
    "\n",
    "On considère les valeurs suivantes des paramètres :\n",
    "* la longueur du tronçon de rivière L = 5000 (m),\n",
    "* la largeur de la rivière B = 300 (m).\n",
    "\n",
    "### Sortie\n",
    "\n",
    "La pente de la rivière est supposée proche de zéro, ce qui implique :\n",
    "$$\n",
    "\\alpha = \\frac{Z_m - Z_v}{L},\n",
    "$$\n",
    "si $Z_m \\geq Z_v$. \n",
    "La hauteur de l'eau est modélisée par :\n",
    "$$\n",
    "H = \\left(\\frac{Q}{K_s B \\sqrt{\\alpha}}\\right)^{0.6},\n",
    "$$\n",
    "pour tous $K_s, Q>0$.\n",
    "\n",
    "<img src=\"river_section_adjusted_light.png\" width=\"400\" />\n",
    "\n",
    "### Lois de distribution\n",
    "\n",
    "On fait l'hypothèse que le débit suit la loi de Gumbel tronquée suivante :\n",
    "\n",
    "|Variable|Distribution|\n",
    "| ------------- |-------------|\n",
    "|Q|Gumbel(scale=558, mode=1013)>0|\n",
    "\n",
    "### Paramètres à identifier\n",
    "\n",
    "Les variables $(Kz,Zv,Zm)$ à caler sont les suivantes :\n",
    "$$\n",
    "Ks = 30, \\qquad Zv = 50, \\qquad Zm = 55.\n",
    "$$\n",
    "\n",
    "### Observations\n",
    "\n",
    "Les hauteurs d'eau observées sont entachées d'un bruit d'observation de moyenne nulle et d'écart-type\n",
    "$$\n",
    "\\sigma=0.1.\n",
    "$$\n",
    "Les hauteurs d'eau observées sont \n",
    "$$\n",
    "H_i = G(Q_i,Ks,Zv,Zm) + \\epsilon\n",
    "$$\n",
    "pour $i=1,...,n$ où \n",
    "$$\n",
    "\\epsilon \\sim \\mathcal{N}(0,\\sigma^2)\n",
    "$$\n",
    "et $Q$ est uniforme entre \n",
    "On considère un échantillon de taille \n",
    "$$\n",
    "n=100.\n",
    "$$\n",
    "Les observations sont des couples $(Q,H)$ et \n",
    "\n",
    "### Analyse\n",
    "\n",
    "Dans ce modèle, les variables $Z_m$ et $Z_v$ ne sont pas identifiables, puisque seule la différence $Z_m-Z_v$ importe."
   ]
  },
  {
   "cell_type": "code",
   "execution_count": 1,
   "metadata": {},
   "outputs": [],
   "source": [
    "import openturns as ot\n",
    "import numpy as np"
   ]
  },
  {
   "cell_type": "code",
   "execution_count": 2,
   "metadata": {},
   "outputs": [],
   "source": [
    "ot.ResourceMap.SetAsString('R-executable-command','C:\\\\Users\\\\c61372\\\\AppData\\\\Local\\\\Continuum\\\\anaconda3-5-3\\\\Lib\\\\R\\\\bin\\\\R.exe')"
   ]
  },
  {
   "cell_type": "code",
   "execution_count": 3,
   "metadata": {},
   "outputs": [],
   "source": [
    "def functionCrue(X) :\n",
    "    L = 5.0e3\n",
    "    B = 300.0\n",
    "    Q, K_s, Z_v, Z_m = X\n",
    "    alpha = (Z_m - Z_v)/L\n",
    "    H = (Q/(K_s*B*np.sqrt(alpha)))**(3.0/5.0)\n",
    "    return [H]"
   ]
  },
  {
   "cell_type": "markdown",
   "metadata": {},
   "source": [
    "## Calage par moindres carrés non-linéaires"
   ]
  },
  {
   "cell_type": "markdown",
   "metadata": {},
   "source": [
    "On commence par charger les données : il y a 100 observations du couple (Q,H)."
   ]
  },
  {
   "cell_type": "code",
   "execution_count": 4,
   "metadata": {},
   "outputs": [
    {
     "data": {
      "text/plain": [
       "100"
      ]
     },
     "execution_count": 4,
     "metadata": {},
     "output_type": "execute_result"
    }
   ],
   "source": [
    "observedSample = ot.Sample_ImportFromCSVFile(\"hauteurs-observations.csv\")\n",
    "nbobs = observedSample.getSize()\n",
    "Qobs = observedSample[:,0]\n",
    "Hobs = observedSample[:,1]\n",
    "nbobs"
   ]
  },
  {
   "cell_type": "code",
   "execution_count": 5,
   "metadata": {},
   "outputs": [
    {
     "data": {
      "image/png": "[encoded data removed]",
      "text/plain": [
       "class=Graph name=Unnamed implementation=class=GraphImplementation name=Unnamed title= xTitle=Q (m3/s) yTitle=H (m) axes=ON grid=ON legendposition= legendFontSize=1 drawables=[class=Drawable name=Unnamed implementation=class=Cloud name=Unnamed derived from class=DrawableImplementation name=Unnamed legend=Predictions data=class=Sample name=Unnamed implementation=class=SampleImplementation name=Unnamed size=100 dimension=2 data=[[1443.6,2.65447],[2174.89,3.46684],[626.102,1.67651],[325.812,1.01015],[981.399,2.12009],[2950.39,3.91494],[2404.22,3.66332],[1222.42,2.45146],[446.227,1.48357],[898.207,1.897],[1621.02,2.87785],[1036.49,2.15357],[1021.93,2.32061],[1675.95,2.79352],[2178.44,3.35575],[901.675,2.11887],[2464.55,3.57401],[1918.19,3.00503],[1554.45,2.77984],[1943.49,3.0775],[1000.75,2.21698],[2727.4,3.91412],[1367.28,2.51594],[715.751,1.80684],[511.638,1.59272],[1504.54,2.82285],[765.386,1.75974],[1040.84,2.01105],[281.947,1.21901],[1090.66,2.31503],[3244.68,4.25576],[2371.75,3.50528],[2738.32,3.79425],[1174.45,2.39515],[846.531,2.00473],[1505.79,2.64367],[1201.12,2.36136],[1167.48,2.43186],[573.669,1.50677],[978.758,2.00439],[1494.9,2.50848],[1534.27,2.6821],[3162.24,4.27471],[1475.64,2.78593],[449.428,1.37909],[1770.16,2.98508],[3884.96,4.7127],[504.388,1.53678],[789.643,1.82082],[913.464,2.14575],[776.837,2.03861],[1443.2,2.55865],[1352.24,2.39564],[1165.23,2.19977],[1579.35,2.81907],[1685.52,2.5976],[2535.95,3.71615],[2119.74,3.21025],[1051.41,2.29314],[1442.4,2.57128],[2353.91,3.57421],[2353.05,3.65621],[673.835,1.71036],[1290.65,2.42826],[753.767,1.74735],[2050.7,3.30357],[1115.48,2.25273],[1003.57,2.43128],[813.621,1.97226],[839.017,1.9742],[1372.51,2.63136],[692.324,1.55092],[3119.71,3.96585],[1190.33,2.42598],[1609.32,2.76212],[2769.22,3.84108],[1595.03,2.85647],[1916.02,3.09421],[1188.56,2.54363],[758.773,1.823],[1711.31,3.10649],[2440.88,3.57629],[1455.26,2.58839],[1391.77,2.54094],[1591.63,2.58318],[494.377,1.33316],[834.489,1.87534],[1538.25,2.57386],[998.7,2.05534],[1092.51,2.24746],[942.236,2.1383],[1845.6,2.9237],[1344.16,2.50631],[953.486,2.1919],[2993.87,4.06121],[1246.13,2.23621],[566.162,1.4594],[2316.32,3.58303],[1707.55,2.93045],[1219.62,2.46733]] color=blue fillStyle=solid lineStyle=solid pointStyle=plus lineWidth=1]"
      ]
     },
     "execution_count": 5,
     "metadata": {},
     "output_type": "execute_result"
    }
   ],
   "source": [
    "graph = ot.Graph('', 'Q (m3/s)', 'H (m)', True, '')\n",
    "cloud = ot.Cloud(Qobs, Hobs)\n",
    "cloud.setLegend(\"Predictions\")\n",
    "graph.add(cloud)\n",
    "graph"
   ]
  },
  {
   "cell_type": "code",
   "execution_count": 6,
   "metadata": {},
   "outputs": [],
   "source": [
    "def calibrationFunction(theta):\n",
    "    Ks, Zv, Zm = theta\n",
    "    Hpredicted = ot.Point(nbobs)\n",
    "    for i in range(nbobs):\n",
    "        X = ot.Point([Qobs[i,0],Ks, Zv, Zm])\n",
    "        Hpredicted[i] = functionCrue(X)[0]\n",
    "    return Hpredicted"
   ]
  },
  {
   "cell_type": "code",
   "execution_count": 7,
   "metadata": {},
   "outputs": [],
   "source": [
    "calibrationG = ot.PythonFunction(3,nbobs,calibrationFunction)"
   ]
  },
  {
   "cell_type": "markdown",
   "metadata": {},
   "source": [
    "Définit les bornes des variables du problème pour la variable $\\theta$."
   ]
  },
  {
   "cell_type": "code",
   "execution_count": 8,
   "metadata": {},
   "outputs": [],
   "source": [
    "boundsMin = [20.,40.,40.]\n",
    "boundsMax = [40.,60.,60.]\n",
    "bounds = ot.Interval(boundsMin,boundsMax)"
   ]
  },
  {
   "cell_type": "markdown",
   "metadata": {},
   "source": [
    "Définit le point de départ de l'algorithme d'optimisation."
   ]
  },
  {
   "cell_type": "code",
   "execution_count": 9,
   "metadata": {},
   "outputs": [],
   "source": [
    "KsInitial = 20.\n",
    "ZvInitial = 49.\n",
    "ZmInitial = 51.\n",
    "theta0 = ot.Point([KsInitial,ZvInitial,ZmInitial])"
   ]
  },
  {
   "cell_type": "markdown",
   "metadata": {},
   "source": [
    "Calcule les hauteurs d'eau prédites au point de référence."
   ]
  },
  {
   "cell_type": "code",
   "execution_count": 10,
   "metadata": {},
   "outputs": [],
   "source": [
    "Hpredicted0 = calibrationFunction(theta0)"
   ]
  },
  {
   "cell_type": "code",
   "execution_count": 11,
   "metadata": {},
   "outputs": [],
   "source": [
    "labelsTheta = (\"Ks (m^(1/3)/s)\",\"Zv (m)\",\"Zm (m)\")"
   ]
  },
  {
   "cell_type": "markdown",
   "metadata": {},
   "source": [
    "Calcule le gradient du modèle au point de l'ébauche."
   ]
  },
  {
   "cell_type": "code",
   "execution_count": 12,
   "metadata": {},
   "outputs": [],
   "source": [
    "H = calibrationG.gradient(theta0)"
   ]
  },
  {
   "cell_type": "markdown",
   "metadata": {},
   "source": [
    "Convertit la Matrix en Sample."
   ]
  },
  {
   "cell_type": "code",
   "execution_count": 13,
   "metadata": {},
   "outputs": [],
   "source": [
    "dim = len(theta0)\n",
    "Hsample = ot.Sample(nbobs,dim)\n",
    "for i in range(nbobs):\n",
    "    for j in range(dim):\n",
    "        Hsample[i,j] = H[j,i]"
   ]
  },
  {
   "cell_type": "markdown",
   "metadata": {},
   "source": [
    "Résout le problème de moindres carrés linéaires."
   ]
  },
  {
   "cell_type": "code",
   "execution_count": 14,
   "metadata": {},
   "outputs": [],
   "source": [
    "deltaY = Hobs.asPoint() - Hpredicted0\n",
    "deltaY = ot.Sample(deltaY,1)"
   ]
  },
  {
   "cell_type": "code",
   "execution_count": 15,
   "metadata": {},
   "outputs": [],
   "source": [
    "myLeastSquares = ot.LinearLeastSquares(Hsample, deltaY)\n",
    "myLeastSquares.run()"
   ]
  },
  {
   "cell_type": "code",
   "execution_count": 16,
   "metadata": {
    "scrolled": true
   },
   "outputs": [
    {
     "data": {
      "text/html": [
       "<p>[0.28236,-1.4118,1.4118]</p>"
      ],
      "text/plain": [
       "class=Point name=Unnamed dimension=3 values=[0.28236,-1.4118,1.4118]"
      ]
     },
     "execution_count": 16,
     "metadata": {},
     "output_type": "execute_result"
    }
   ],
   "source": [
    "deltaThetaMatrix = myLeastSquares.getLinear()\n",
    "deltaTheta = ot.Point(dim)\n",
    "for i in range(dim):\n",
    "    deltaTheta[i] = deltaThetaMatrix[i,0]\n",
    "deltaTheta"
   ]
  },
  {
   "cell_type": "code",
   "execution_count": 17,
   "metadata": {},
   "outputs": [
    {
     "data": {
      "text/html": [
       "<p>[20.2824,47.5882,52.4118]</p>"
      ],
      "text/plain": [
       "class=Point name=Unnamed dimension=3 values=[20.2824,47.5882,52.4118]"
      ]
     },
     "execution_count": 17,
     "metadata": {},
     "output_type": "execute_result"
    }
   ],
   "source": [
    "thetaStar = theta0 + deltaTheta\n",
    "thetaStar"
   ]
  },
  {
   "cell_type": "markdown",
   "metadata": {},
   "source": [
    "Calcule les hauteurs d'eau prédites au point optimal."
   ]
  },
  {
   "cell_type": "code",
   "execution_count": 18,
   "metadata": {},
   "outputs": [],
   "source": [
    "HpredictedStar = calibrationFunction(thetaStar)"
   ]
  },
  {
   "cell_type": "markdown",
   "metadata": {},
   "source": [
    "Plot model versus data after calibration."
   ]
  },
  {
   "cell_type": "code",
   "execution_count": 19,
   "metadata": {},
   "outputs": [
    {
     "data": {
      "image/png": "[encoded data removed]",
      "text/plain": [
       "class=Graph name=Unnamed implementation=class=GraphImplementation name=Unnamed title= xTitle=Q (m3/s) yTitle=H (m) axes=ON grid=ON legendposition=topleft legendFontSize=1 drawables=[class=Drawable name=Unnamed implementation=class=Cloud name=Unnamed derived from class=DrawableImplementation name=Unnamed legend=Predictions before data=class=Sample name=Unnamed implementation=class=SampleImplementation name=Unnamed size=100 dimension=2 data=[[1443.6,4.44795],[2174.89,5.68792],[626.102,2.6945],[325.812,1.82084],[981.399,3.52857],[2950.39,6.82997],[2404.22,6.04054],[1222.42,4.02553],[446.227,2.199],[898.207,3.34593],[1621.02,4.76831],[1036.49,3.64612],[1021.93,3.6153],[1675.95,4.86461],[2178.44,5.69349],[901.675,3.35368],[2464.55,6.13104],[1918.19,5.27505],[1554.45,4.64982],[1943.49,5.31668],[1000.75,3.57015],[2727.4,6.51539],[1367.28,4.30532],[715.751,2.91977],[511.638,2.38709],[1504.54,4.55966],[765.386,3.03962],[1040.84,3.6553],[281.947,1.66952],[1090.66,3.75928],[3244.68,7.23094],[2371.75,5.99146],[2738.32,6.53103],[1174.45,3.92999],[846.531,3.22907],[1505.79,4.56194],[1201.12,3.98331],[1167.48,3.91599],[573.669,2.55675],[978.758,3.52287],[1494.9,4.54213],[1534.27,4.61351],[3162.24,7.12013],[1475.64,4.50692],[449.428,2.20845],[1770.16,5.02689],[3884.96,8.05607],[504.388,2.36674],[789.643,3.09706],[913.464,3.37992],[776.837,3.06683],[1443.2,4.4472],[1352.24,4.27684],[1165.23,3.91145],[1579.35,4.69438],[1685.52,4.88126],[2535.95,6.23699],[2119.74,5.60094],[1051.41,3.67751],[1442.4,4.44572],[2353.91,5.96438],[2353.05,5.96307],[673.835,2.81594],[1290.65,4.15888],[753.767,3.01185],[2050.7,5.49075],[1115.48,3.81037],[1003.57,3.57619],[813.621,3.15315],[839.017,3.21184],[1372.51,4.3152],[692.324,2.86205],[3119.71,7.06252],[1190.33,3.96178],[1609.32,4.74762],[2769.22,6.57515],[1595.03,4.72229],[1916.02,5.27146],[1188.56,3.95826],[758.773,3.02384],[1711.31,4.92593],[2440.88,6.09564],[1455.26,4.46946],[1391.77,4.35142],[1591.63,4.71625],[494.377,2.33844],[834.489,3.20143],[1538.25,4.62069],[998.7,3.56576],[1092.51,3.76311],[942.236,3.4434],[1845.6,5.15436],[1344.16,4.26148],[953.486,3.46801],[2993.87,6.89019],[1246.13,4.0722],[566.162,2.53662],[2316.32,5.90704],[1707.55,4.91944],[1219.62,4.02]] color=red fillStyle=solid lineStyle=solid pointStyle=plus lineWidth=1,class=Drawable name=Unnamed implementation=class=Cloud name=Unnamed derived from class=DrawableImplementation name=Unnamed legend=Predictions after data=class=Sample name=Unnamed implementation=class=SampleImplementation name=Unnamed size=100 dimension=2 data=[[1443.6,3.38692],[2174.89,4.3311],[626.102,2.05174],[325.812,1.38649],[981.399,2.68685],[2950.39,5.20072],[2404.22,4.5996],[1222.42,3.06526],[446.227,1.67444],[898.207,2.54778],[1621.02,3.63085],[1036.49,2.77636],[1021.93,2.75289],[1675.95,3.70419],[2178.44,4.33534],[901.675,2.55368],[2464.55,4.66851],[1918.19,4.01671],[1554.45,3.54063],[1943.49,4.04842],[1000.75,2.71851],[2727.4,4.96118],[1367.28,3.27831],[715.751,2.22327],[511.638,1.81766],[1504.54,3.47198],[765.386,2.31454],[1040.84,2.78335],[281.947,1.27127],[1090.66,2.86252],[3244.68,5.50604],[2371.75,4.56223],[2738.32,4.97309],[1174.45,2.99251],[846.531,2.45879],[1505.79,3.47371],[1201.12,3.03311],[1167.48,2.98185],[573.669,1.94685],[978.758,2.68251],[1494.9,3.45863],[1534.27,3.51299],[3162.24,5.42166],[1475.64,3.43182],[449.428,1.68164],[1770.16,3.82775],[3884.96,6.13434],[504.388,1.80216],[789.643,2.35827],[913.464,2.57366],[776.837,2.33525],[1443.2,3.38634],[1352.24,3.25663],[1165.23,2.9784],[1579.35,3.57457],[1685.52,3.71686],[2535.95,4.74919],[2119.74,4.26487],[1051.41,2.80026],[1442.4,3.38522],[2353.91,4.54161],[2353.05,4.54061],[673.835,2.14421],[1290.65,3.1668],[753.767,2.29339],[2050.7,4.18096],[1115.48,2.90143],[1003.57,2.72311],[813.621,2.40098],[839.017,2.44567],[1372.51,3.28584],[692.324,2.17932],[3119.71,5.3778],[1190.33,3.01672],[1609.32,3.6151],[2769.22,5.00669],[1595.03,3.59581],[1916.02,4.01398],[1188.56,3.01404],[758.773,2.30252],[1711.31,3.75087],[2440.88,4.64156],[1455.26,3.4033],[1391.77,3.31341],[1591.63,3.59121],[494.377,1.78062],[834.489,2.43775],[1538.25,3.51845],[998.7,2.71517],[1092.51,2.86544],[942.236,2.62199],[1845.6,3.92481],[1344.16,3.24493],[953.486,2.64073],[2993.87,5.24658],[1246.13,3.1008],[566.162,1.93152],[2316.32,4.49795],[1707.55,3.74593],[1219.62,3.06105]] color=green fillStyle=solid lineStyle=solid pointStyle=plus lineWidth=1,class=Drawable name=Unnamed implementation=class=Cloud name=Unnamed derived from class=DrawableImplementation name=Unnamed legend=Observations data=class=Sample name=Unnamed implementation=class=SampleImplementation name=Unnamed size=100 dimension=2 data=[[1443.6,2.65447],[2174.89,3.46684],[626.102,1.67651],[325.812,1.01015],[981.399,2.12009],[2950.39,3.91494],[2404.22,3.66332],[1222.42,2.45146],[446.227,1.48357],[898.207,1.897],[1621.02,2.87785],[1036.49,2.15357],[1021.93,2.32061],[1675.95,2.79352],[2178.44,3.35575],[901.675,2.11887],[2464.55,3.57401],[1918.19,3.00503],[1554.45,2.77984],[1943.49,3.0775],[1000.75,2.21698],[2727.4,3.91412],[1367.28,2.51594],[715.751,1.80684],[511.638,1.59272],[1504.54,2.82285],[765.386,1.75974],[1040.84,2.01105],[281.947,1.21901],[1090.66,2.31503],[3244.68,4.25576],[2371.75,3.50528],[2738.32,3.79425],[1174.45,2.39515],[846.531,2.00473],[1505.79,2.64367],[1201.12,2.36136],[1167.48,2.43186],[573.669,1.50677],[978.758,2.00439],[1494.9,2.50848],[1534.27,2.6821],[3162.24,4.27471],[1475.64,2.78593],[449.428,1.37909],[1770.16,2.98508],[3884.96,4.7127],[504.388,1.53678],[789.643,1.82082],[913.464,2.14575],[776.837,2.03861],[1443.2,2.55865],[1352.24,2.39564],[1165.23,2.19977],[1579.35,2.81907],[1685.52,2.5976],[2535.95,3.71615],[2119.74,3.21025],[1051.41,2.29314],[1442.4,2.57128],[2353.91,3.57421],[2353.05,3.65621],[673.835,1.71036],[1290.65,2.42826],[753.767,1.74735],[2050.7,3.30357],[1115.48,2.25273],[1003.57,2.43128],[813.621,1.97226],[839.017,1.9742],[1372.51,2.63136],[692.324,1.55092],[3119.71,3.96585],[1190.33,2.42598],[1609.32,2.76212],[2769.22,3.84108],[1595.03,2.85647],[1916.02,3.09421],[1188.56,2.54363],[758.773,1.823],[1711.31,3.10649],[2440.88,3.57629],[1455.26,2.58839],[1391.77,2.54094],[1591.63,2.58318],[494.377,1.33316],[834.489,1.87534],[1538.25,2.57386],[998.7,2.05534],[1092.51,2.24746],[942.236,2.1383],[1845.6,2.9237],[1344.16,2.50631],[953.486,2.1919],[2993.87,4.06121],[1246.13,2.23621],[566.162,1.4594],[2316.32,3.58303],[1707.55,2.93045],[1219.62,2.46733]] color=blue fillStyle=solid lineStyle=solid pointStyle=plus lineWidth=1]"
      ]
     },
     "execution_count": 19,
     "metadata": {},
     "output_type": "execute_result"
    }
   ],
   "source": [
    "graph = ot.Graph('', 'Q (m3/s)', 'H (m)', True, '')\n",
    "#\n",
    "cloudPred0 = ot.Cloud(Qobs, ot.Sample(Hpredicted0,1))\n",
    "cloudPred0.setLegend(\"Predictions before\")\n",
    "cloudPred0.setColor(\"red\")\n",
    "graph.add(cloudPred0)\n",
    "#\n",
    "cloudPredStar = ot.Cloud(Qobs, ot.Sample(HpredictedStar,1))\n",
    "cloudPredStar.setLegend(\"Predictions after\")\n",
    "cloudPredStar.setColor(\"green\")\n",
    "graph.add(cloudPredStar)\n",
    "#\n",
    "cloudObs = ot.Cloud(Qobs, Hobs)\n",
    "cloudObs.setColor(\"blue\")\n",
    "cloudObs.setLegend(\"Observations\")\n",
    "graph.add(cloudObs)\n",
    "#\n",
    "graph.setLegendPosition('topleft')\n",
    "graph"
   ]
  },
  {
   "cell_type": "code",
   "execution_count": null,
   "metadata": {},
   "outputs": [],
   "source": []
  }
 ],
 "metadata": {
  "kernelspec": {
   "display_name": "Python 3",
   "language": "python",
   "name": "python3"
  },
  "language_info": {
   "codemirror_mode": {
    "name": "ipython",
    "version": 3
   },
   "file_extension": ".py",
   "mimetype": "text/x-python",
   "name": "python",
   "nbconvert_exporter": "python",
   "pygments_lexer": "ipython3",
   "version": "3.7.3"
  }
 },
 "nbformat": 4,
 "nbformat_minor": 2
}
