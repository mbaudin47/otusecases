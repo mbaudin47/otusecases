{
 "cells": [
  {
   "cell_type": "markdown",
   "metadata": {},
   "source": [
    "# The Morris function\n",
    "\n",
    "## Reference\n",
    "\n",
    "* M. D. Morris, 1991, Factorial sampling plans for preliminary computational experiments,Technometrics, 33, 161--174.\n",
    "\n",
    "## Description\n",
    "\n",
    "The Morris function is a non-monotonic function of Morris from $[0,1]^{20}$ to $\\mathbb{R}$.\n",
    "\n",
    "Let \n",
    "\n",
    "\\begin{align*}\n",
    "y &= \\beta_0 + \\sum_{i=1}^{20} \\beta_i w_i + \\sum_{i<j}^{20} \\beta_{i,j} w_i w_j \\\\\n",
    "  & \\sum_{i<j<\\ell}^{20} \\beta_{i,j,\\ell} w_i w_j w_\\ell \n",
    "   + \\sum_{i<j<\\ell<s}^{20} \\beta_{i,j,\\ell,s} w_i w_j w_\\ell w_s\n",
    "\\end{align*}\n",
    "\n",
    "where\n",
    "$$\n",
    "w_i = 2\\left(x_i-\\frac{1}{2}\\right), \\qquad i=1,2,4,6,8,...,20\n",
    "$$\n",
    "and \n",
    "$$\n",
    "w_i = 2\\left(1.1 \\frac{x_i}{x_i+1}-\\frac{1}{2}\\right), \\qquad i=3,5,7.\n",
    "$$\n",
    "\n",
    "Let $\\mathcal{N}(0,1)$ be the gaussian random variable with zero mean and unit standard deviation.\n",
    "\n",
    "The first-order coefficients are defined by:\n",
    "$$\n",
    "\\beta_i = \n",
    "\\begin{cases} \n",
    "20 &\\mbox{if } 1,...,10 \\\\\n",
    "\\mathcal{N}(0,1) & \\mbox{otherwise}.\n",
    "\\end{cases}\n",
    "$$\n",
    "\n",
    "The second-order coefficient are defined by:\n",
    "$$\n",
    "\\beta_{i,j} =\n",
    "\\begin{cases} \n",
    " -15 &\\mbox{if } i,j=1,...,6 \\\\\n",
    "\\mathcal{N}(0,1) & \\mbox{otherwise}.\n",
    "\\end{cases}\n",
    "$$\n",
    "\n",
    "The third-order coefficient are defined by:\n",
    "$$\n",
    "\\beta_{i,j,\\ell} = \n",
    "\\begin{cases} \n",
    " -10 &\\mbox{if } i,j,\\ell=1,...,5\\\\\n",
    "\\mathcal{N}(0,1) & \\mbox{otherwise}.\n",
    "\\end{cases}\n",
    "$$\n",
    "\n",
    "The fourth-order coefficient are defined by:\n",
    "$$\n",
    "\\beta_{i,j,\\ell,s} = \n",
    "\\begin{cases} \n",
    "5 &\\mbox{if } i,j,\\ell,s=1,...,4\\\\\n",
    "0 & \\mbox{otherwise}.\n",
    "\\end{cases}\n",
    "$$\n"
   ]
  },
  {
   "cell_type": "code",
   "execution_count": 1,
   "metadata": {},
   "outputs": [],
   "source": [
    "import openturns as ot\n",
    "import otmorris"
   ]
  },
  {
   "cell_type": "markdown",
   "metadata": {},
   "source": [
    "Setting the seed allows to produce always the same Morris parameters."
   ]
  },
  {
   "cell_type": "code",
   "execution_count": 2,
   "metadata": {},
   "outputs": [],
   "source": [
    "ot.RandomGenerator.SetSeed(1)"
   ]
  },
  {
   "cell_type": "code",
   "execution_count": 3,
   "metadata": {},
   "outputs": [],
   "source": [
    "alpha = ot.DistFunc.rNormal(10)\n",
    "beta = ot.DistFunc.rNormal(14*6)\n",
    "gamma = ot.DistFunc.rNormal(20*14)\n",
    "b0 = ot.DistFunc.rNormal()"
   ]
  },
  {
   "cell_type": "code",
   "execution_count": 4,
   "metadata": {},
   "outputs": [],
   "source": [
    "g = ot.Function(otmorris.MorrisFunction(alpha, beta, gamma, b0))"
   ]
  },
  {
   "cell_type": "code",
   "execution_count": 5,
   "metadata": {},
   "outputs": [],
   "source": [
    "U = [ot.Uniform(0,1)]*20"
   ]
  },
  {
   "cell_type": "code",
   "execution_count": 6,
   "metadata": {},
   "outputs": [],
   "source": [
    "X = ot.ComposedDistribution(U)"
   ]
  },
  {
   "cell_type": "code",
   "execution_count": 7,
   "metadata": {},
   "outputs": [],
   "source": [
    "n = 500"
   ]
  },
  {
   "cell_type": "code",
   "execution_count": 8,
   "metadata": {},
   "outputs": [],
   "source": [
    "sampleX = X.getSample(n)"
   ]
  },
  {
   "cell_type": "code",
   "execution_count": 9,
   "metadata": {},
   "outputs": [],
   "source": [
    "sampleY = g(sampleX)"
   ]
  },
  {
   "cell_type": "code",
   "execution_count": 10,
   "metadata": {},
   "outputs": [
    {
     "data": {
      "image/png": "[encoded data removed]",
      "text/plain": [
       "class=Graph name=sample histogram implementation=class=GraphImplementation name=sample histogram title=Morris function xTitle=g(X) yTitle=PDF axes=ON grid=ON legendposition=topright legendFontSize=1 drawables=[class=Drawable name=Unnamed implementation=class=Curve name=Unnamed derived from class=DrawableImplementation name=Unnamed legend= data=class=Sample name=Unnamed implementation=class=SampleImplementation name=Unnamed size=80 dimension=2 data=[[-77.9871,0],[-72.4724,0],[-72.4724,0],[-72.4724,0.000181333],[-61.443,0.000181333],[-61.443,0],[-61.443,0],[-61.443,0.000543999],[-50.4136,0.000543999],[-50.4136,0],[-50.4136,0],[-50.4136,0.000725332],[-39.3841,0.000725332],[-39.3841,0],[-39.3841,0],[-39.3841,0.000725332],[-28.3547,0.000725332],[-28.3547,0],[-28.3547,0],[-28.3547,0.00126933],[-17.3252,0.00126933],[-17.3252,0],[-17.3252,0],[-17.3252,0.00290133],[-6.29581,0.00290133],[-6.29581,0],[-6.29581,0],[-6.29581,0.00453332],[4.73362,0.00453332],[4.73362,0],[4.73362,0],[4.73362,0.00471466],[15.7631,0.00471466],[15.7631,0],[15.7631,0],[15.7631,0.00924798],[26.7925,0.00924798],[26.7925,0],[26.7925,0],[26.7925,0.014688],[37.8219,0.014688],[37.8219,0],[37.8219,0],[37.8219,0.0126933],[48.8514,0.0126933],[48.8514,0],[48.8514,0],[48.8514,0.014144],[59.8808,0.014144],[59.8808,0],[59.8808,0],[59.8808,0.0112426],[70.9102,0.0112426],[70.9102,0],[70.9102,0],[70.9102,0.00562132],[81.9397,0.00562132],[81.9397,0],[81.9397,0],[81.9397,0.00417066],[92.9691,0.00417066],[92.9691,0],[92.9691,0],[92.9691,0.002176],[103.999,0.002176],[103.999,0],[103.999,0],[103.999,0.000725332],[115.028,0.000725332],[115.028,0],[115.028,0],[115.028,0],[126.057,0],[126.057,0],[126.057,0],[126.057,0.000362666],[137.087,0.000362666],[137.087,0],[137.087,0],[142.602,0]] color=red fillStyle=solid lineStyle=solid pointStyle=none lineWidth=2]"
      ]
     },
     "execution_count": 10,
     "metadata": {},
     "output_type": "execute_result"
    }
   ],
   "source": [
    "graph = ot.VisualTest_DrawHistogram(sampleY)\n",
    "graph.setLegends([\"\"])\n",
    "graph.setTitle(\"Morris function\")\n",
    "graph.setXTitle(\"g(X)\")\n",
    "graph.setYTitle(\"PDF\")\n",
    "graph"
   ]
  }
 ],
 "metadata": {
  "kernelspec": {
   "display_name": "Python 3",
   "language": "python",
   "name": "python3"
  },
  "language_info": {
   "codemirror_mode": {
    "name": "ipython",
    "version": 3
   },
   "file_extension": ".py",
   "mimetype": "text/x-python",
   "name": "python",
   "nbconvert_exporter": "python",
   "pygments_lexer": "ipython3",
   "version": "3.7.0"
  }
 },
 "nbformat": 4,
 "nbformat_minor": 2
}
