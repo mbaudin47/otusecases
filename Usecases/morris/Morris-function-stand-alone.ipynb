{
 "cells": [
  {
   "cell_type": "markdown",
   "metadata": {},
   "source": [
    "# The Morris function\n",
    "\n",
    "## Abstract\n",
    "\n",
    "This page documents the Morris test function.\n",
    "\n",
    "## Reference\n",
    "\n",
    "* M. D. Morris, 1991, Factorial sampling plans for preliminary computational experiments,Technometrics, 33, 161--174.\n",
    "* https://github.com/openturns/otmorris/tree/master\n",
    "* http://openturns.github.io/otmorris/master/\n",
    "\n",
    "## Description\n",
    "\n",
    "The Morris function is a non-monotonic function of Morris from $[0,1]^{20}$ to $\\mathbb{R}$.\n",
    "\n",
    "Let \n",
    "\n",
    "\\begin{align*}\n",
    "y &= \\beta_0 + \\sum_{i=1}^{20} \\beta_i w_i + \\sum_{i<j}^{20} \\beta_{i,j} w_i w_j \\\\\n",
    "  & \\sum_{i<j<\\ell}^{20} \\beta_{i,j,\\ell} w_i w_j w_\\ell \n",
    "   + \\sum_{i<j<\\ell<s}^{20} \\beta_{i,j,\\ell,s} w_i w_j w_\\ell w_s\n",
    "\\end{align*}\n",
    "\n",
    "where\n",
    "$$\n",
    "w_i = 2\\left(x_i-\\frac{1}{2}\\right), \\qquad i=1,2,4,6,8,...,20\n",
    "$$\n",
    "and \n",
    "$$\n",
    "w_i = 2\\left(1.1 \\frac{x_i}{x_i+1}-\\frac{1}{2}\\right), \\qquad i=3,5,7.\n",
    "$$\n",
    "\n",
    "Let $\\mathcal{N}(0,1)$ be the gaussian random variable with zero mean and unit standard deviation.\n",
    "\n",
    "The first-order coefficients are defined by:\n",
    "$$\n",
    "\\beta_i = \n",
    "\\begin{cases} \n",
    "20 &\\mbox{if } 1,...,10 \\\\\n",
    "\\mathcal{N}(0,1) & \\mbox{otherwise}.\n",
    "\\end{cases}\n",
    "$$\n",
    "\n",
    "The second-order coefficient are defined by:\n",
    "$$\n",
    "\\beta_{i,j} =\n",
    "\\begin{cases} \n",
    " -15 &\\mbox{if } i,j=1,...,6 \\\\\n",
    "\\mathcal{N}(0,1) & \\mbox{otherwise}.\n",
    "\\end{cases}\n",
    "$$\n",
    "\n",
    "The third-order coefficient are defined by:\n",
    "$$\n",
    "\\beta_{i,j,\\ell} = \n",
    "\\begin{cases} \n",
    " -10 &\\mbox{if } i,j,\\ell=1,...,5\\\\\n",
    "0 & \\mbox{otherwise}.\n",
    "\\end{cases}\n",
    "$$\n",
    "\n",
    "The fourth-order coefficient are defined by:\n",
    "$$\n",
    "\\beta_{i,j,\\ell,s} = \n",
    "\\begin{cases} \n",
    "5 &\\mbox{if } i,j,\\ell,s=1,...,4\\\\\n",
    "0 & \\mbox{otherwise}.\n",
    "\\end{cases}\n",
    "$$\n"
   ]
  },
  {
   "cell_type": "code",
   "execution_count": 1,
   "metadata": {},
   "outputs": [],
   "source": [
    "import openturns as ot"
   ]
  },
  {
   "cell_type": "code",
   "execution_count": 2,
   "metadata": {},
   "outputs": [],
   "source": [
    "class MorrisFunction(ot.OpenTURNSPythonFunction):\n",
    "    \"\"\"\n",
    "    The non-monotonic function of Morris f: R^20 -> R\n",
    "\n",
    "    Reference:\n",
    "      M. D. Morris, 1991, Factorial sampling plans for preliminary\n",
    "      computational experiments,Technometrics, 33, 161--174.\n",
    "\n",
    "    This code was taken from otmorris/python/src/Morris.i.\n",
    "\n",
    "    Examples\n",
    "    --------\n",
    "    >>> import openturns as ot\n",
    "    >>> ot.RandomGenerator.SetSeed(123)\n",
    "    >>> b0 = ot.DistFunc.rNormal()\n",
    "    >>> alpha = ot.DistFunc.rNormal(10)\n",
    "    >>> beta =  ot.DistFunc.rNormal(6*14)\n",
    "    >>> gamma =  ot.DistFunc.rNormal(20*14)\n",
    "    >>> f = ot.Function( MorrisFunction(alpha, beta, gamma, b0) )\n",
    "    >>> input_sample = ot.ComposedDistribution([ot.Uniform(0,1)] * 20).getSample(20)\n",
    "    >>> output_sample = f(input_sample)\n",
    "\n",
    "    \"\"\"\n",
    "    def __init__(self, alpha = ot.Point(10), beta = ot.Point(14*6),\\\n",
    "                 gamma = ot.Point(20*14), b0 = 0.0):\n",
    "        ot.OpenTURNSPythonFunction.__init__(self, 20, 1)\n",
    "        self.b0 = float(b0)\n",
    "        # Check alpha dimension\n",
    "        assert(len(alpha) == 10)\n",
    "        self.b1 = [20] * 10 + list(alpha)\n",
    "        # Check beta and gamma dimension\n",
    "        assert(len(beta) == 6 * 14)\n",
    "        assert(len(gamma) == 20 * 14)\n",
    "        self.b2 = [[0] *20] * 20\n",
    "        for i in range(6):\n",
    "            for j in range(6):\n",
    "                self.b2[i][j] = -15.0\n",
    "        # Take into account beta\n",
    "        k = 0\n",
    "        for i in range(6):\n",
    "            for j in range(14):\n",
    "                self.b2[i][j + 6] = beta[k]\n",
    "                k = k + 1\n",
    "        # Take into account gamma\n",
    "        k = 0\n",
    "        for i in range(6, 20):\n",
    "            for j in range(20):\n",
    "                self.b2[i][j] = gamma[k]\n",
    "\n",
    "        # b3\n",
    "        self.b3 = [[[0]*20]*20]*20\n",
    "        for i in range(5):\n",
    "            for j in range(5):\n",
    "                for k in range(5):\n",
    "                    self.b3[i][j][k] = -10.0\n",
    "        # b4\n",
    "        self.b4 = [[[[0]*20]*20]*20]*20\n",
    "        for i in range(4):\n",
    "            for j in range(4):\n",
    "                for k in range(4):\n",
    "                    for l in range(4):\n",
    "                        self.b4[i][j][k][l] = 5\n",
    "\n",
    "    def _exec(self, x):\n",
    "        assert (len(x)==20)\n",
    "        b1 = self.b1\n",
    "        b2 = self.b2\n",
    "        b3 = self.b3\n",
    "        b4 = self.b4\n",
    "        # X is a list, transform it into array\n",
    "        X = ot.Point(x)\n",
    "        w = (X - [0.5]*20)*2\n",
    "        for k in [2,4,6]:\n",
    "           w[k] = 2.0 * (1.1 * X[k] / (X[k] + 0.1) - 0.5)\n",
    "        y = self.b0\n",
    "        y = ot.dot(w, b1)\n",
    "        # Morris function\n",
    "        for i in range(19):\n",
    "            for j in range(i + 1, 20):\n",
    "                y +=  b2[i][j] * w[i] * w[j]\n",
    "        for i in range(18):\n",
    "            for j in range(i + 1, 19):\n",
    "                for k in range(j + 1, 20):\n",
    "                    y += b3[i][j][k] * w[i] * w[j] * w[k]\n",
    "\n",
    "        for i in range(17):\n",
    "            for j in range(i + 1, 18):\n",
    "                for k in range(j + 1, 20):\n",
    "                    for l in range(k + 1, 20):\n",
    "                        y += b4[i][j][k][l] * w[i] * w[j] * w[k] * w[l]\n",
    "\n",
    "        return [y]"
   ]
  },
  {
   "cell_type": "markdown",
   "metadata": {},
   "source": [
    "Setting the seed allows to produce always the same Morris parameters."
   ]
  },
  {
   "cell_type": "code",
   "execution_count": 3,
   "metadata": {},
   "outputs": [],
   "source": [
    "ot.RandomGenerator.SetSeed(1)"
   ]
  },
  {
   "cell_type": "code",
   "execution_count": 4,
   "metadata": {},
   "outputs": [],
   "source": [
    "alpha = ot.DistFunc.rNormal(10)\n",
    "beta = ot.DistFunc.rNormal(14*6)\n",
    "gamma = ot.DistFunc.rNormal(20*14)\n",
    "b0 = ot.DistFunc.rNormal()"
   ]
  },
  {
   "cell_type": "code",
   "execution_count": 5,
   "metadata": {},
   "outputs": [],
   "source": [
    "g = ot.Function(MorrisFunction(alpha, beta, gamma, b0))"
   ]
  },
  {
   "cell_type": "code",
   "execution_count": 6,
   "metadata": {},
   "outputs": [],
   "source": [
    "X = ot.ComposedDistribution([ot.Uniform(0,1)]*20)"
   ]
  },
  {
   "cell_type": "code",
   "execution_count": 7,
   "metadata": {},
   "outputs": [],
   "source": [
    "n = 500"
   ]
  },
  {
   "cell_type": "code",
   "execution_count": 8,
   "metadata": {},
   "outputs": [],
   "source": [
    "sampleX = X.getSample(n)"
   ]
  },
  {
   "cell_type": "code",
   "execution_count": 9,
   "metadata": {},
   "outputs": [],
   "source": [
    "sampleY = g(sampleX)"
   ]
  },
  {
   "cell_type": "code",
   "execution_count": 10,
   "metadata": {},
   "outputs": [
    {
     "data": {
      "image/png": "[encoded data removed]",
      "text/plain": [
       "class=Graph name=sample histogram implementation=class=GraphImplementation name=sample histogram title=Morris function xTitle=g(X) yTitle=PDF axes=ON grid=ON legendposition=topright legendFontSize=1 drawables=[class=Drawable name=Unnamed implementation=class=Curve name=Unnamed derived from class=DrawableImplementation name=Unnamed legend= data=class=Sample name=Unnamed implementation=class=SampleImplementation name=Unnamed size=80 dimension=2 data=[[-79.1389,0],[-73.6242,0],[-73.6242,0],[-73.6242,0.000181333],[-62.5947,0.000181333],[-62.5947,0],[-62.5947,0],[-62.5947,0.000543999],[-51.5653,0.000543999],[-51.5653,0],[-51.5653,0],[-51.5653,0.000725332],[-40.5359,0.000725332],[-40.5359,0],[-40.5359,0],[-40.5359,0.000725332],[-29.5064,0.000725332],[-29.5064,0],[-29.5064,0],[-29.5064,0.00126933],[-18.477,0.00126933],[-18.477,0],[-18.477,0],[-18.477,0.00290133],[-7.44755,0.00290133],[-7.44755,0],[-7.44755,0],[-7.44755,0.00453332],[3.58189,0.00453332],[3.58189,0],[3.58189,0],[3.58189,0.00471466],[14.6113,0.00471466],[14.6113,0],[14.6113,0],[14.6113,0.00924798],[25.6408,0.00924798],[25.6408,0],[25.6408,0],[25.6408,0.014688],[36.6702,0.014688],[36.6702,0],[36.6702,0],[36.6702,0.0126933],[47.6996,0.0126933],[47.6996,0],[47.6996,0],[47.6996,0.014144],[58.7291,0.014144],[58.7291,0],[58.7291,0],[58.7291,0.0112426],[69.7585,0.0112426],[69.7585,0],[69.7585,0],[69.7585,0.00562132],[80.7879,0.00562132],[80.7879,0],[80.7879,0],[80.7879,0.00417066],[91.8174,0.00417066],[91.8174,0],[91.8174,0],[91.8174,0.002176],[102.847,0.002176],[102.847,0],[102.847,0],[102.847,0.000725332],[113.876,0.000725332],[113.876,0],[113.876,0],[113.876,0],[124.906,0],[124.906,0],[124.906,0],[124.906,0.000362666],[135.935,0.000362666],[135.935,0],[135.935,0],[141.45,0]] color=red fillStyle=solid lineStyle=solid pointStyle=none lineWidth=2]"
      ]
     },
     "execution_count": 10,
     "metadata": {},
     "output_type": "execute_result"
    }
   ],
   "source": [
    "graph = ot.VisualTest_DrawHistogram(sampleY)\n",
    "graph.setLegends([\"\"])\n",
    "graph.setTitle(\"Morris function\")\n",
    "graph.setXTitle(\"g(X)\")\n",
    "graph.setYTitle(\"PDF\")\n",
    "graph"
   ]
  }
 ],
 "metadata": {
  "kernelspec": {
   "display_name": "Python 3",
   "language": "python",
   "name": "python3"
  },
  "language_info": {
   "codemirror_mode": {
    "name": "ipython",
    "version": 3
   },
   "file_extension": ".py",
   "mimetype": "text/x-python",
   "name": "python",
   "nbconvert_exporter": "python",
   "pygments_lexer": "ipython3",
   "version": "3.7.0"
  }
 },
 "nbformat": 4,
 "nbformat_minor": 2
}
