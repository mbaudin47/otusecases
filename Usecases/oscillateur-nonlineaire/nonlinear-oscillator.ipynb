{
 "cells": [
  {
   "cell_type": "markdown",
   "metadata": {},
   "source": [
    "# A nonlinear oscillator\n",
    "\n",
    "## Références\n",
    "\n",
    "- A. Der Kiureghian, M. De Stefano, Efficient algorithm for second-order reliability analysis, J. Eng. Mech. 117 (12) (1991) 2904–2923.\n",
    "- J.-M. Bourinet, F. Deheeger, M. Lemaire, Assessing small failure probabilities by combined subset simulation and Support Vector Machines, Struct. Saf. 33 (6) (2011) 343–353.\n",
    "- J.-M. Bourinet, Rare-event probability estimation with adaptive support vector regression surrogates, Reliab. Eng. Syst. Saf. 150 (2016) 210–221.\n",
    "- V. Dubourg, Adaptive surrogate models for reliability analysis and reliability-based design optimization, PhD thesis, Université Blaise Pascal – Clermont II, 2011.\n",
    "- Vincent Chabridon, Mathieu Balesdent, Jean-Marc Bourinet, Jérôme Morio, Nicolas Gayton. Evaluation of failure probability under parameter epistemic uncertainty: application to aerospace system reliability assessment. Aerospace Science and Technology, Elsevier, 2017, 69, pp.526-537.\n",
    "- Analyse de sensibilité fiabiliste avec prise en\n",
    "compte d’incertitudes sur le modèle probabiliste, Thèse présentée par Vincent Chabridon, 2019.\n",
    "\n",
    "## Description\n",
    "\n",
    "The aim is to assess reliability of a two-degree-of-freedom primary-secondary system under a white noise base acceleration. \n",
    "\n",
    "<img src=\"nonlinear-oscillator.png\" width=\"400\" />\n",
    "\n",
    "The basic variables characterizing the physical behavior are \n",
    "* the masses $m_p$ and $m_s$, \n",
    "- spring stiffnesses $k_p$ and $k_s$, \n",
    "- natural frequencies $\\omega_p$ and $\\omega_s$,\n",
    "- damping ratios $\\xi_p$ and $\\xi_s$, \n",
    "\n",
    "where the subscripts p and s respectively refer to the primary and secondary oscillators.\n",
    "\n",
    "The reliability of the system can be evaluated using the following limit state function:\n",
    "$$\n",
    "g(X) = F_s - \n",
    "3 k_s \\sqrt{\\frac{\\pi S_0}{4\\xi_s \\omega_s^3}\n",
    "\\frac{\\xi_a\\xi_s}{\\xi_p\\xi_s(4\\xi_a^2 + r^2) + \\gamma \\xi_a^2}\n",
    "\\frac{(\\xi_p\\omega_p^3 + \\xi_s\\omega_s^3)\\omega_p}{4\\xi_a\\omega_a^4}\n",
    "}\n",
    "$$\n",
    "where \n",
    "- $F_s$ : the force capacity of the secondary spring,\n",
    "- $S_0$ is the intensity of the white noise, \n",
    "- $\\omega_p = (k_p/m_p)^{1/2}$,\n",
    "- $\\omega_s = (k_s/m_s)^{1/2}$, \n",
    "- $\\omega_a = (\\omega_p + \\omega_s)/2$ the average frequency ratio, \n",
    "- $\\gamma =m_s/m_p$ the mass ratio, \n",
    "- $\\xi_a = (\\xi_p + \\xi_s)/2$ the average damping ratio and \n",
    "- $r = (\\omega_p − \\omega_s)/\\omega_a$ a tuning parameter.\n",
    "\n",
    "| Random var. | Distribution | Mean | Coef. of var. |\n",
    "|--|--|--|--|\n",
    "| $F_s$ | Lognormale | 21.5 | 10% |\n",
    "| $m_p$ | Lognormale | 1.5 | 10% |\n",
    "| $m_s$ | Lognormale | 0.01 | 10% |\n",
    "| $k_p$ | Lognormale | 1 | 20% |\n",
    "| $k_s$ | Lognormale | 0.01 | 20% |\n",
    "| $\\xi_p$ | Lognormale | 0.05 | 40% |\n",
    "| $\\xi_s$ | Lognormale | 0.02 | 50% |\n",
    "| $S_0$ | Lognormale | 100 | 10% |\n",
    "\n",
    "The two interesting characteristics of this application test-case are its set of non-normal basic random variables and the fact that it suffers from a highly nonlinear limit-state surface (which prevents from using any FORM-based approach). Moreover, following, it seems relevant to consider the mean of the force capacity $F_s$ as the most influent distribution parameter on the failure probability. \n",
    "$$\n",
    "pf_{ref} = 4.75 \\times 10^{-5}.\n",
    "$$"
   ]
  },
  {
   "cell_type": "code",
   "execution_count": 1,
   "metadata": {},
   "outputs": [],
   "source": [
    "import numpy as np\n",
    "import openturns as ot"
   ]
  },
  {
   "cell_type": "code",
   "execution_count": 2,
   "metadata": {},
   "outputs": [],
   "source": [
    "def oscillator(x):\n",
    "    fs, mp, ms, kp, ks, xip, xis, S0 = x\n",
    "    omegap = np.sqrt(kp/mp)\n",
    "    omegas = np.sqrt(ks/ms)\n",
    "    omegaa = 0.5*(omegap+omegas)\n",
    "    gamma = ms/mp\n",
    "    xi_a = 0.5*(xip+xis)\n",
    "    theta = 1./omegaa*(omegap-omegas)\n",
    "    F = fs - 3*ks*np.sqrt(np.pi*S0/(4.*xis*omegas**3)*\n",
    "        xi_a*xis/(xip*xis*(4.*xi_a**2+theta**2)+gamma*xi_a**2)*\n",
    "        (xip*omegap**3+xis*omegas**3)*omegap/(4.*xi_a*omegaa**4))\n",
    "    return [F]"
   ]
  },
  {
   "cell_type": "code",
   "execution_count": 3,
   "metadata": {},
   "outputs": [],
   "source": [
    "dim = 8\n",
    "g = ot.PythonFunction(dim,1,oscillator)"
   ]
  },
  {
   "cell_type": "code",
   "execution_count": 4,
   "metadata": {},
   "outputs": [],
   "source": [
    "mean_list = [21.5, 1.5, 0.01, 1., 0.01, 0.05, 0.02, 100.]\n",
    "cov_list = [0.1, 0.1, 0.1, 0.2, 0.2, 0.4, 0.5, 0.1]\n",
    "myCollection = ot.DistributionCollection(dim)\n",
    "for i, (mu, cov) in enumerate(zip(mean_list, cov_list)):\n",
    "    myParam = ot.LogNormalMuSigma(mu, mu*cov, 0.)\n",
    "    myCollection[i] = ot.ParametrizedDistribution(myParam)"
   ]
  },
  {
   "cell_type": "code",
   "execution_count": 5,
   "metadata": {},
   "outputs": [],
   "source": [
    "distribution = ot.ComposedDistribution(myCollection)\n",
    "X = ot.RandomVector(distribution)"
   ]
  },
  {
   "cell_type": "code",
   "execution_count": 6,
   "metadata": {},
   "outputs": [],
   "source": [
    "Y = ot.CompositeRandomVector(g, X)"
   ]
  },
  {
   "cell_type": "code",
   "execution_count": 7,
   "metadata": {},
   "outputs": [],
   "source": [
    "myEvent = ot.Event(Y, ot.LessOrEqual(), 0.0)"
   ]
  },
  {
   "cell_type": "code",
   "execution_count": 8,
   "metadata": {},
   "outputs": [],
   "source": [
    "blocksize = 1000\n",
    "experiment = ot.MonteCarloExperiment()\n",
    "myAlgo = ot.ProbabilitySimulationAlgorithm(myEvent, experiment)\n",
    "myAlgo.setMaximumOuterSampling(10000)\n",
    "myAlgo.setBlockSize(blocksize)\n",
    "myAlgo.setMaximumCoefficientOfVariation(0.1)"
   ]
  },
  {
   "cell_type": "code",
   "execution_count": 9,
   "metadata": {},
   "outputs": [],
   "source": [
    "myAlgo.run()"
   ]
  },
  {
   "cell_type": "code",
   "execution_count": 10,
   "metadata": {},
   "outputs": [],
   "source": [
    "result = myAlgo.getResult()"
   ]
  },
  {
   "cell_type": "code",
   "execution_count": 11,
   "metadata": {},
   "outputs": [
    {
     "data": {
      "text/plain": [
       "2218"
      ]
     },
     "execution_count": 11,
     "metadata": {},
     "output_type": "execute_result"
    }
   ],
   "source": [
    "outersampling = result.getOuterSampling()\n",
    "outersampling"
   ]
  },
  {
   "cell_type": "code",
   "execution_count": 12,
   "metadata": {},
   "outputs": [
    {
     "name": "stdout",
     "output_type": "stream",
     "text": [
      "Number of function calls = 2218000\n"
     ]
    }
   ],
   "source": [
    "funccalls = blocksize * outersampling\n",
    "print(\"Number of function calls = %d\" % (funccalls))"
   ]
  },
  {
   "cell_type": "code",
   "execution_count": 13,
   "metadata": {},
   "outputs": [
    {
     "data": {
      "text/plain": [
       "4.553651938683502e-05"
      ]
     },
     "execution_count": 13,
     "metadata": {},
     "output_type": "execute_result"
    }
   ],
   "source": [
    "pf = result.getProbabilityEstimate()\n",
    "pf"
   ]
  },
  {
   "cell_type": "code",
   "execution_count": 14,
   "metadata": {},
   "outputs": [
    {
     "name": "stdout",
     "output_type": "stream",
     "text": [
      "95.00% confidence interval = [0.000037,0.000054]\n"
     ]
    }
   ],
   "source": [
    "alpha = 0.05\n",
    "pflen = result.getConfidenceLength(1-alpha)\n",
    "print(\"%.2f%% confidence interval = [%f,%f]\" % ((1-alpha)*100,pf-pflen/2,pf+pflen/2))"
   ]
  }
 ],
 "metadata": {
  "kernelspec": {
   "display_name": "Python 3",
   "language": "python",
   "name": "python3"
  },
  "language_info": {
   "codemirror_mode": {
    "name": "ipython",
    "version": 3
   },
   "file_extension": ".py",
   "mimetype": "text/x-python",
   "name": "python",
   "nbconvert_exporter": "python",
   "pygments_lexer": "ipython3",
   "version": "3.7.3"
  }
 },
 "nbformat": 4,
 "nbformat_minor": 2
}
